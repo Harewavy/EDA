{
 "cells": [
  {
   "cell_type": "markdown",
   "id": "43ee436c",
   "metadata": {},
   "source": [
    "## Instacart Customer Behavior Analysis\n",
    "\n",
    "This project focuses on exploring and visualizing customer ordering habits on the Instacart grocery delivery platform using exploratory data analysis (EDA).\n",
    "\n",
    "The dataset contains information about customer orders, products, departments, and aisles. It was originally released for a Kaggle competition and has been slightly modified for educational use. The objective of this analysis is to uncover patterns in when customers place orders, what products are most frequently purchased, and how often items are reordered."
   ]
  },
  {
   "cell_type": "code",
   "execution_count": 1,
   "id": "fbf1adab",
   "metadata": {},
   "outputs": [],
   "source": [
    "import pandas as pd"
   ]
  },
  {
   "cell_type": "code",
   "execution_count": 2,
   "id": "e8ad4c71",
   "metadata": {},
   "outputs": [],
   "source": [
    "import matplotlib.pyplot as plt"
   ]
  },
  {
   "cell_type": "code",
   "execution_count": 8,
   "id": "ad36396d",
   "metadata": {},
   "outputs": [],
   "source": [
    "orders = pd.read_csv('instacart_orders.csv', sep=';')"
   ]
  },
  {
   "cell_type": "code",
   "execution_count": 9,
   "id": "ad6a1efa",
   "metadata": {},
   "outputs": [],
   "source": [
    "products = pd.read_csv('products.csv',sep=';')"
   ]
  },
  {
   "cell_type": "code",
   "execution_count": 10,
   "id": "5130e05e",
   "metadata": {},
   "outputs": [],
   "source": [
    "aisles = pd.read_csv('aisles.csv',sep=';')"
   ]
  },
  {
   "cell_type": "code",
   "execution_count": 11,
   "id": "d8370c05",
   "metadata": {},
   "outputs": [],
   "source": [
    "departments = pd.read_csv('departments.csv',sep=';')"
   ]
  },
  {
   "cell_type": "code",
   "execution_count": 12,
   "id": "59e2090f",
   "metadata": {},
   "outputs": [],
   "source": [
    "order_products = pd.read_csv('order_products.csv',sep=';')"
   ]
  },
  {
   "cell_type": "code",
   "execution_count": 13,
   "id": "f2e73ee6",
   "metadata": {},
   "outputs": [
    {
     "name": "stdout",
     "output_type": "stream",
     "text": [
      "orders\n",
      "<class 'pandas.core.frame.DataFrame'>\n",
      "RangeIndex: 478967 entries, 0 to 478966\n",
      "Data columns (total 6 columns):\n",
      " #   Column                  Non-Null Count   Dtype  \n",
      "---  ------                  --------------   -----  \n",
      " 0   order_id                478967 non-null  int64  \n",
      " 1   user_id                 478967 non-null  int64  \n",
      " 2   order_number            478967 non-null  int64  \n",
      " 3   order_dow               478967 non-null  int64  \n",
      " 4   order_hour_of_day       478967 non-null  int64  \n",
      " 5   days_since_prior_order  450148 non-null  float64\n",
      "dtypes: float64(1), int64(5)\n",
      "memory usage: 21.9 MB\n",
      "None\n",
      "   order_id  user_id  order_number  order_dow  order_hour_of_day  \\\n",
      "0   1515936   183418            11          6                 13   \n",
      "1   1690866   163593             5          5                 12   \n",
      "2   1454967    39980             4          5                 19   \n",
      "3   1768857    82516            56          0                 20   \n",
      "4   3007858   196724             2          4                 12   \n",
      "\n",
      "   days_since_prior_order  \n",
      "0                    30.0  \n",
      "1                     9.0  \n",
      "2                     2.0  \n",
      "3                    10.0  \n",
      "4                    17.0   \n",
      "\n",
      "products\n",
      "<class 'pandas.core.frame.DataFrame'>\n",
      "RangeIndex: 49694 entries, 0 to 49693\n",
      "Data columns (total 4 columns):\n",
      " #   Column         Non-Null Count  Dtype \n",
      "---  ------         --------------  ----- \n",
      " 0   product_id     49694 non-null  int64 \n",
      " 1   product_name   48436 non-null  object\n",
      " 2   aisle_id       49694 non-null  int64 \n",
      " 3   department_id  49694 non-null  int64 \n",
      "dtypes: int64(3), object(1)\n",
      "memory usage: 1.5+ MB\n",
      "None\n",
      "   product_id                                       product_name  aisle_id  \\\n",
      "0           1                         Chocolate Sandwich Cookies        61   \n",
      "1           2                                   All-Seasons Salt       104   \n",
      "2           3               Robust Golden Unsweetened Oolong Tea        94   \n",
      "3           4  Smart Ones Classic Favorites Mini Rigatoni Wit...        38   \n",
      "4           5                          Green Chile Anytime Sauce         5   \n",
      "\n",
      "   department_id  \n",
      "0             19  \n",
      "1             13  \n",
      "2              7  \n",
      "3              1  \n",
      "4             13   \n",
      "\n",
      "aisles\n",
      "<class 'pandas.core.frame.DataFrame'>\n",
      "RangeIndex: 134 entries, 0 to 133\n",
      "Data columns (total 2 columns):\n",
      " #   Column    Non-Null Count  Dtype \n",
      "---  ------    --------------  ----- \n",
      " 0   aisle_id  134 non-null    int64 \n",
      " 1   aisle     134 non-null    object\n",
      "dtypes: int64(1), object(1)\n",
      "memory usage: 2.2+ KB\n",
      "None\n",
      "   aisle_id                       aisle\n",
      "0         1       prepared soups salads\n",
      "1         2           specialty cheeses\n",
      "2         3         energy granola bars\n",
      "3         4               instant foods\n",
      "4         5  marinades meat preparation \n",
      "\n",
      "departments\n",
      "<class 'pandas.core.frame.DataFrame'>\n",
      "RangeIndex: 21 entries, 0 to 20\n",
      "Data columns (total 2 columns):\n",
      " #   Column         Non-Null Count  Dtype \n",
      "---  ------         --------------  ----- \n",
      " 0   department_id  21 non-null     int64 \n",
      " 1   department     21 non-null     object\n",
      "dtypes: int64(1), object(1)\n",
      "memory usage: 468.0+ bytes\n",
      "None\n",
      "   department_id department\n",
      "0              1     frozen\n",
      "1              2      other\n",
      "2              3     bakery\n",
      "3              4    produce\n",
      "4              5    alcohol \n",
      "\n",
      "order_products\n",
      "<class 'pandas.core.frame.DataFrame'>\n",
      "RangeIndex: 4545007 entries, 0 to 4545006\n",
      "Data columns (total 4 columns):\n",
      " #   Column             Dtype  \n",
      "---  ------             -----  \n",
      " 0   order_id           int64  \n",
      " 1   product_id         int64  \n",
      " 2   add_to_cart_order  float64\n",
      " 3   reordered          int64  \n",
      "dtypes: float64(1), int64(3)\n",
      "memory usage: 138.7 MB\n",
      "None\n",
      "   order_id  product_id  add_to_cart_order  reordered\n",
      "0   2141543       11440               17.0          0\n",
      "1    567889        1560                1.0          1\n",
      "2   2261212       26683                1.0          1\n",
      "3    491251        8670               35.0          1\n",
      "4   2571142        1940                5.0          1 \n",
      "\n"
     ]
    }
   ],
   "source": [
    "datasets = [orders, products, aisles, departments, order_products]\n",
    "dataset_names = ['orders', 'products', 'aisles', 'departments', 'order_products']\n",
    "for name, data in zip(dataset_names, datasets):\n",
    "    print(name)\n",
    "    print(data.info())\n",
    "    print(data.head(), \"\\n\")"
   ]
  },
  {
   "cell_type": "code",
   "execution_count": 14,
   "id": "b99297a5-405a-463d-8535-9adc3da4ad74",
   "metadata": {},
   "outputs": [
    {
     "data": {
      "text/plain": [
       "478967"
      ]
     },
     "execution_count": 14,
     "metadata": {},
     "output_type": "execute_result"
    }
   ],
   "source": [
    "duplicated_orders = orders.duplicated()\n",
    "duplicated_orders.shape[0]"
   ]
  },
  {
   "cell_type": "code",
   "execution_count": 15,
   "id": "0d44de5d",
   "metadata": {},
   "outputs": [
    {
     "data": {
      "text/html": [
       "<div>\n",
       "<style scoped>\n",
       "    .dataframe tbody tr th:only-of-type {\n",
       "        vertical-align: middle;\n",
       "    }\n",
       "\n",
       "    .dataframe tbody tr th {\n",
       "        vertical-align: top;\n",
       "    }\n",
       "\n",
       "    .dataframe thead th {\n",
       "        text-align: right;\n",
       "    }\n",
       "</style>\n",
       "<table border=\"1\" class=\"dataframe\">\n",
       "  <thead>\n",
       "    <tr style=\"text-align: right;\">\n",
       "      <th></th>\n",
       "      <th>order_id</th>\n",
       "      <th>user_id</th>\n",
       "      <th>order_number</th>\n",
       "      <th>order_dow</th>\n",
       "      <th>order_hour_of_day</th>\n",
       "      <th>days_since_prior_order</th>\n",
       "    </tr>\n",
       "  </thead>\n",
       "  <tbody>\n",
       "    <tr>\n",
       "      <th>4838</th>\n",
       "      <td>2766110</td>\n",
       "      <td>162084</td>\n",
       "      <td>41</td>\n",
       "      <td>3</td>\n",
       "      <td>2</td>\n",
       "      <td>16.0</td>\n",
       "    </tr>\n",
       "    <tr>\n",
       "      <th>5156</th>\n",
       "      <td>2190225</td>\n",
       "      <td>138285</td>\n",
       "      <td>18</td>\n",
       "      <td>3</td>\n",
       "      <td>2</td>\n",
       "      <td>11.0</td>\n",
       "    </tr>\n",
       "    <tr>\n",
       "      <th>15506</th>\n",
       "      <td>553049</td>\n",
       "      <td>58599</td>\n",
       "      <td>13</td>\n",
       "      <td>3</td>\n",
       "      <td>2</td>\n",
       "      <td>7.0</td>\n",
       "    </tr>\n",
       "    <tr>\n",
       "      <th>18420</th>\n",
       "      <td>382357</td>\n",
       "      <td>120200</td>\n",
       "      <td>19</td>\n",
       "      <td>3</td>\n",
       "      <td>2</td>\n",
       "      <td>11.0</td>\n",
       "    </tr>\n",
       "    <tr>\n",
       "      <th>24691</th>\n",
       "      <td>690242</td>\n",
       "      <td>77357</td>\n",
       "      <td>2</td>\n",
       "      <td>3</td>\n",
       "      <td>2</td>\n",
       "      <td>9.0</td>\n",
       "    </tr>\n",
       "    <tr>\n",
       "      <th>...</th>\n",
       "      <td>...</td>\n",
       "      <td>...</td>\n",
       "      <td>...</td>\n",
       "      <td>...</td>\n",
       "      <td>...</td>\n",
       "      <td>...</td>\n",
       "    </tr>\n",
       "    <tr>\n",
       "      <th>457013</th>\n",
       "      <td>3384021</td>\n",
       "      <td>14881</td>\n",
       "      <td>6</td>\n",
       "      <td>3</td>\n",
       "      <td>2</td>\n",
       "      <td>30.0</td>\n",
       "    </tr>\n",
       "    <tr>\n",
       "      <th>458816</th>\n",
       "      <td>910166</td>\n",
       "      <td>164782</td>\n",
       "      <td>18</td>\n",
       "      <td>3</td>\n",
       "      <td>2</td>\n",
       "      <td>4.0</td>\n",
       "    </tr>\n",
       "    <tr>\n",
       "      <th>459635</th>\n",
       "      <td>1680532</td>\n",
       "      <td>106435</td>\n",
       "      <td>6</td>\n",
       "      <td>3</td>\n",
       "      <td>2</td>\n",
       "      <td>21.0</td>\n",
       "    </tr>\n",
       "    <tr>\n",
       "      <th>468324</th>\n",
       "      <td>222962</td>\n",
       "      <td>54979</td>\n",
       "      <td>59</td>\n",
       "      <td>3</td>\n",
       "      <td>2</td>\n",
       "      <td>3.0</td>\n",
       "    </tr>\n",
       "    <tr>\n",
       "      <th>477526</th>\n",
       "      <td>2592344</td>\n",
       "      <td>46860</td>\n",
       "      <td>38</td>\n",
       "      <td>3</td>\n",
       "      <td>2</td>\n",
       "      <td>3.0</td>\n",
       "    </tr>\n",
       "  </tbody>\n",
       "</table>\n",
       "<p>121 rows × 6 columns</p>\n",
       "</div>"
      ],
      "text/plain": [
       "        order_id  user_id  order_number  order_dow  order_hour_of_day  \\\n",
       "4838     2766110   162084            41          3                  2   \n",
       "5156     2190225   138285            18          3                  2   \n",
       "15506     553049    58599            13          3                  2   \n",
       "18420     382357   120200            19          3                  2   \n",
       "24691     690242    77357             2          3                  2   \n",
       "...          ...      ...           ...        ...                ...   \n",
       "457013   3384021    14881             6          3                  2   \n",
       "458816    910166   164782            18          3                  2   \n",
       "459635   1680532   106435             6          3                  2   \n",
       "468324    222962    54979            59          3                  2   \n",
       "477526   2592344    46860            38          3                  2   \n",
       "\n",
       "        days_since_prior_order  \n",
       "4838                      16.0  \n",
       "5156                      11.0  \n",
       "15506                      7.0  \n",
       "18420                     11.0  \n",
       "24691                      9.0  \n",
       "...                        ...  \n",
       "457013                    30.0  \n",
       "458816                     4.0  \n",
       "459635                    21.0  \n",
       "468324                     3.0  \n",
       "477526                     3.0  \n",
       "\n",
       "[121 rows x 6 columns]"
      ]
     },
     "execution_count": 15,
     "metadata": {},
     "output_type": "execute_result"
    }
   ],
   "source": [
    "check_order = orders[(orders['order_dow'] == 3) & (orders['order_hour_of_day'] == 2)]\n",
    "check_order"
   ]
  },
  {
   "cell_type": "code",
   "execution_count": 16,
   "id": "480563c7",
   "metadata": {},
   "outputs": [
    {
     "data": {
      "text/html": [
       "<div>\n",
       "<style scoped>\n",
       "    .dataframe tbody tr th:only-of-type {\n",
       "        vertical-align: middle;\n",
       "    }\n",
       "\n",
       "    .dataframe tbody tr th {\n",
       "        vertical-align: top;\n",
       "    }\n",
       "\n",
       "    .dataframe thead th {\n",
       "        text-align: right;\n",
       "    }\n",
       "</style>\n",
       "<table border=\"1\" class=\"dataframe\">\n",
       "  <thead>\n",
       "    <tr style=\"text-align: right;\">\n",
       "      <th></th>\n",
       "      <th>order_id</th>\n",
       "      <th>user_id</th>\n",
       "      <th>order_number</th>\n",
       "      <th>order_dow</th>\n",
       "      <th>order_hour_of_day</th>\n",
       "      <th>days_since_prior_order</th>\n",
       "    </tr>\n",
       "  </thead>\n",
       "  <tbody>\n",
       "    <tr>\n",
       "      <th>0</th>\n",
       "      <td>1515936</td>\n",
       "      <td>183418</td>\n",
       "      <td>11</td>\n",
       "      <td>6</td>\n",
       "      <td>13</td>\n",
       "      <td>30.0</td>\n",
       "    </tr>\n",
       "    <tr>\n",
       "      <th>1</th>\n",
       "      <td>1690866</td>\n",
       "      <td>163593</td>\n",
       "      <td>5</td>\n",
       "      <td>5</td>\n",
       "      <td>12</td>\n",
       "      <td>9.0</td>\n",
       "    </tr>\n",
       "    <tr>\n",
       "      <th>2</th>\n",
       "      <td>1454967</td>\n",
       "      <td>39980</td>\n",
       "      <td>4</td>\n",
       "      <td>5</td>\n",
       "      <td>19</td>\n",
       "      <td>2.0</td>\n",
       "    </tr>\n",
       "    <tr>\n",
       "      <th>3</th>\n",
       "      <td>1768857</td>\n",
       "      <td>82516</td>\n",
       "      <td>56</td>\n",
       "      <td>0</td>\n",
       "      <td>20</td>\n",
       "      <td>10.0</td>\n",
       "    </tr>\n",
       "    <tr>\n",
       "      <th>4</th>\n",
       "      <td>3007858</td>\n",
       "      <td>196724</td>\n",
       "      <td>2</td>\n",
       "      <td>4</td>\n",
       "      <td>12</td>\n",
       "      <td>17.0</td>\n",
       "    </tr>\n",
       "    <tr>\n",
       "      <th>...</th>\n",
       "      <td>...</td>\n",
       "      <td>...</td>\n",
       "      <td>...</td>\n",
       "      <td>...</td>\n",
       "      <td>...</td>\n",
       "      <td>...</td>\n",
       "    </tr>\n",
       "    <tr>\n",
       "      <th>478962</th>\n",
       "      <td>3210681</td>\n",
       "      <td>5617</td>\n",
       "      <td>5</td>\n",
       "      <td>1</td>\n",
       "      <td>14</td>\n",
       "      <td>7.0</td>\n",
       "    </tr>\n",
       "    <tr>\n",
       "      <th>478963</th>\n",
       "      <td>3270802</td>\n",
       "      <td>112087</td>\n",
       "      <td>2</td>\n",
       "      <td>3</td>\n",
       "      <td>13</td>\n",
       "      <td>6.0</td>\n",
       "    </tr>\n",
       "    <tr>\n",
       "      <th>478964</th>\n",
       "      <td>885349</td>\n",
       "      <td>82944</td>\n",
       "      <td>16</td>\n",
       "      <td>2</td>\n",
       "      <td>11</td>\n",
       "      <td>6.0</td>\n",
       "    </tr>\n",
       "    <tr>\n",
       "      <th>478965</th>\n",
       "      <td>216274</td>\n",
       "      <td>4391</td>\n",
       "      <td>3</td>\n",
       "      <td>3</td>\n",
       "      <td>8</td>\n",
       "      <td>8.0</td>\n",
       "    </tr>\n",
       "    <tr>\n",
       "      <th>478966</th>\n",
       "      <td>2071924</td>\n",
       "      <td>1730</td>\n",
       "      <td>18</td>\n",
       "      <td>1</td>\n",
       "      <td>14</td>\n",
       "      <td>15.0</td>\n",
       "    </tr>\n",
       "  </tbody>\n",
       "</table>\n",
       "<p>478952 rows × 6 columns</p>\n",
       "</div>"
      ],
      "text/plain": [
       "        order_id  user_id  order_number  order_dow  order_hour_of_day  \\\n",
       "0        1515936   183418            11          6                 13   \n",
       "1        1690866   163593             5          5                 12   \n",
       "2        1454967    39980             4          5                 19   \n",
       "3        1768857    82516            56          0                 20   \n",
       "4        3007858   196724             2          4                 12   \n",
       "...          ...      ...           ...        ...                ...   \n",
       "478962   3210681     5617             5          1                 14   \n",
       "478963   3270802   112087             2          3                 13   \n",
       "478964    885349    82944            16          2                 11   \n",
       "478965    216274     4391             3          3                  8   \n",
       "478966   2071924     1730            18          1                 14   \n",
       "\n",
       "        days_since_prior_order  \n",
       "0                         30.0  \n",
       "1                          9.0  \n",
       "2                          2.0  \n",
       "3                         10.0  \n",
       "4                         17.0  \n",
       "...                        ...  \n",
       "478962                     7.0  \n",
       "478963                     6.0  \n",
       "478964                     6.0  \n",
       "478965                     8.0  \n",
       "478966                    15.0  \n",
       "\n",
       "[478952 rows x 6 columns]"
      ]
     },
     "execution_count": 16,
     "metadata": {},
     "output_type": "execute_result"
    }
   ],
   "source": [
    "orders.drop_duplicates()"
   ]
  },
  {
   "cell_type": "code",
   "execution_count": 17,
   "id": "0b2396a2",
   "metadata": {},
   "outputs": [
    {
     "data": {
      "text/plain": [
       "15"
      ]
     },
     "execution_count": 17,
     "metadata": {},
     "output_type": "execute_result"
    }
   ],
   "source": [
    "duplicate_orders = orders[orders.duplicated()]\n",
    "duplicate_orders.shape[0]"
   ]
  },
  {
   "cell_type": "code",
   "execution_count": 18,
   "id": "f6113ef1",
   "metadata": {},
   "outputs": [
    {
     "data": {
      "text/plain": [
       "478967"
      ]
     },
     "execution_count": 18,
     "metadata": {},
     "output_type": "execute_result"
    }
   ],
   "source": [
    "duplicate_order_id = orders.duplicated(subset='order_id')\n",
    "duplicate_order_id.shape[0]"
   ]
  },
  {
   "cell_type": "code",
   "execution_count": 19,
   "id": "5f526b5b-8175-46fa-a0fd-441767d50e64",
   "metadata": {},
   "outputs": [
    {
     "data": {
      "text/html": [
       "<div>\n",
       "<style scoped>\n",
       "    .dataframe tbody tr th:only-of-type {\n",
       "        vertical-align: middle;\n",
       "    }\n",
       "\n",
       "    .dataframe tbody tr th {\n",
       "        vertical-align: top;\n",
       "    }\n",
       "\n",
       "    .dataframe thead th {\n",
       "        text-align: right;\n",
       "    }\n",
       "</style>\n",
       "<table border=\"1\" class=\"dataframe\">\n",
       "  <thead>\n",
       "    <tr style=\"text-align: right;\">\n",
       "      <th></th>\n",
       "      <th>order_id</th>\n",
       "      <th>user_id</th>\n",
       "      <th>order_number</th>\n",
       "      <th>order_dow</th>\n",
       "      <th>order_hour_of_day</th>\n",
       "      <th>days_since_prior_order</th>\n",
       "    </tr>\n",
       "  </thead>\n",
       "  <tbody>\n",
       "    <tr>\n",
       "      <th>0</th>\n",
       "      <td>1515936</td>\n",
       "      <td>183418</td>\n",
       "      <td>11</td>\n",
       "      <td>6</td>\n",
       "      <td>13</td>\n",
       "      <td>30.0</td>\n",
       "    </tr>\n",
       "    <tr>\n",
       "      <th>1</th>\n",
       "      <td>1690866</td>\n",
       "      <td>163593</td>\n",
       "      <td>5</td>\n",
       "      <td>5</td>\n",
       "      <td>12</td>\n",
       "      <td>9.0</td>\n",
       "    </tr>\n",
       "    <tr>\n",
       "      <th>2</th>\n",
       "      <td>1454967</td>\n",
       "      <td>39980</td>\n",
       "      <td>4</td>\n",
       "      <td>5</td>\n",
       "      <td>19</td>\n",
       "      <td>2.0</td>\n",
       "    </tr>\n",
       "    <tr>\n",
       "      <th>3</th>\n",
       "      <td>1768857</td>\n",
       "      <td>82516</td>\n",
       "      <td>56</td>\n",
       "      <td>0</td>\n",
       "      <td>20</td>\n",
       "      <td>10.0</td>\n",
       "    </tr>\n",
       "    <tr>\n",
       "      <th>4</th>\n",
       "      <td>3007858</td>\n",
       "      <td>196724</td>\n",
       "      <td>2</td>\n",
       "      <td>4</td>\n",
       "      <td>12</td>\n",
       "      <td>17.0</td>\n",
       "    </tr>\n",
       "    <tr>\n",
       "      <th>...</th>\n",
       "      <td>...</td>\n",
       "      <td>...</td>\n",
       "      <td>...</td>\n",
       "      <td>...</td>\n",
       "      <td>...</td>\n",
       "      <td>...</td>\n",
       "    </tr>\n",
       "    <tr>\n",
       "      <th>478962</th>\n",
       "      <td>3210681</td>\n",
       "      <td>5617</td>\n",
       "      <td>5</td>\n",
       "      <td>1</td>\n",
       "      <td>14</td>\n",
       "      <td>7.0</td>\n",
       "    </tr>\n",
       "    <tr>\n",
       "      <th>478963</th>\n",
       "      <td>3270802</td>\n",
       "      <td>112087</td>\n",
       "      <td>2</td>\n",
       "      <td>3</td>\n",
       "      <td>13</td>\n",
       "      <td>6.0</td>\n",
       "    </tr>\n",
       "    <tr>\n",
       "      <th>478964</th>\n",
       "      <td>885349</td>\n",
       "      <td>82944</td>\n",
       "      <td>16</td>\n",
       "      <td>2</td>\n",
       "      <td>11</td>\n",
       "      <td>6.0</td>\n",
       "    </tr>\n",
       "    <tr>\n",
       "      <th>478965</th>\n",
       "      <td>216274</td>\n",
       "      <td>4391</td>\n",
       "      <td>3</td>\n",
       "      <td>3</td>\n",
       "      <td>8</td>\n",
       "      <td>8.0</td>\n",
       "    </tr>\n",
       "    <tr>\n",
       "      <th>478966</th>\n",
       "      <td>2071924</td>\n",
       "      <td>1730</td>\n",
       "      <td>18</td>\n",
       "      <td>1</td>\n",
       "      <td>14</td>\n",
       "      <td>15.0</td>\n",
       "    </tr>\n",
       "  </tbody>\n",
       "</table>\n",
       "<p>478952 rows × 6 columns</p>\n",
       "</div>"
      ],
      "text/plain": [
       "        order_id  user_id  order_number  order_dow  order_hour_of_day  \\\n",
       "0        1515936   183418            11          6                 13   \n",
       "1        1690866   163593             5          5                 12   \n",
       "2        1454967    39980             4          5                 19   \n",
       "3        1768857    82516            56          0                 20   \n",
       "4        3007858   196724             2          4                 12   \n",
       "...          ...      ...           ...        ...                ...   \n",
       "478962   3210681     5617             5          1                 14   \n",
       "478963   3270802   112087             2          3                 13   \n",
       "478964    885349    82944            16          2                 11   \n",
       "478965    216274     4391             3          3                  8   \n",
       "478966   2071924     1730            18          1                 14   \n",
       "\n",
       "        days_since_prior_order  \n",
       "0                         30.0  \n",
       "1                          9.0  \n",
       "2                          2.0  \n",
       "3                         10.0  \n",
       "4                         17.0  \n",
       "...                        ...  \n",
       "478962                     7.0  \n",
       "478963                     6.0  \n",
       "478964                     6.0  \n",
       "478965                     8.0  \n",
       "478966                    15.0  \n",
       "\n",
       "[478952 rows x 6 columns]"
      ]
     },
     "execution_count": 19,
     "metadata": {},
     "output_type": "execute_result"
    }
   ],
   "source": [
    "duplicated_products = products.duplicated()\n",
    "duplicated_products.shape[0]\n",
    "orders.drop_duplicates()"
   ]
  },
  {
   "cell_type": "code",
   "execution_count": 20,
   "id": "88daa4f4",
   "metadata": {},
   "outputs": [],
   "source": [
    "duplicated_products_id = products.duplicated(subset='product_id')\n",
    "duplicated_products_id.shape[0]\n",
    "orders = orders.drop_duplicates(subset='order_id')"
   ]
  },
  {
   "cell_type": "code",
   "execution_count": 21,
   "id": "c773f0bf",
   "metadata": {},
   "outputs": [],
   "source": [
    "duplicated_product_names = products.duplicated(subset='product_name')\n",
    "products['product_name_low'] = products['product_name'].str.lower()"
   ]
  },
  {
   "cell_type": "code",
   "execution_count": 22,
   "id": "01efd02e",
   "metadata": {},
   "outputs": [
    {
     "data": {
      "text/plain": [
       "1257"
      ]
     },
     "execution_count": 22,
     "metadata": {},
     "output_type": "execute_result"
    }
   ],
   "source": [
    "duplicate_product_names = products[products.duplicated(subset='product_name')]\n",
    "duplicate_product_names.shape[0]"
   ]
  },
  {
   "cell_type": "code",
   "execution_count": 23,
   "id": "fb410ad4-0fbf-4b80-bb09-23fdea79afe3",
   "metadata": {},
   "outputs": [
    {
     "data": {
      "text/plain": [
       "21"
      ]
     },
     "execution_count": 23,
     "metadata": {},
     "output_type": "execute_result"
    }
   ],
   "source": [
    "dublicated_departments = departments.duplicated()\n",
    "dublicated_departments.shape[0]"
   ]
  },
  {
   "cell_type": "code",
   "execution_count": 24,
   "id": "332b12bb",
   "metadata": {
    "scrolled": true
   },
   "outputs": [
    {
     "data": {
      "text/html": [
       "<div>\n",
       "<style scoped>\n",
       "    .dataframe tbody tr th:only-of-type {\n",
       "        vertical-align: middle;\n",
       "    }\n",
       "\n",
       "    .dataframe tbody tr th {\n",
       "        vertical-align: top;\n",
       "    }\n",
       "\n",
       "    .dataframe thead th {\n",
       "        text-align: right;\n",
       "    }\n",
       "</style>\n",
       "<table border=\"1\" class=\"dataframe\">\n",
       "  <thead>\n",
       "    <tr style=\"text-align: right;\">\n",
       "      <th></th>\n",
       "      <th>department_id</th>\n",
       "      <th>department</th>\n",
       "    </tr>\n",
       "  </thead>\n",
       "  <tbody>\n",
       "    <tr>\n",
       "      <th>0</th>\n",
       "      <td>1</td>\n",
       "      <td>frozen</td>\n",
       "    </tr>\n",
       "    <tr>\n",
       "      <th>1</th>\n",
       "      <td>2</td>\n",
       "      <td>other</td>\n",
       "    </tr>\n",
       "    <tr>\n",
       "      <th>2</th>\n",
       "      <td>3</td>\n",
       "      <td>bakery</td>\n",
       "    </tr>\n",
       "    <tr>\n",
       "      <th>3</th>\n",
       "      <td>4</td>\n",
       "      <td>produce</td>\n",
       "    </tr>\n",
       "    <tr>\n",
       "      <th>4</th>\n",
       "      <td>5</td>\n",
       "      <td>alcohol</td>\n",
       "    </tr>\n",
       "    <tr>\n",
       "      <th>5</th>\n",
       "      <td>6</td>\n",
       "      <td>international</td>\n",
       "    </tr>\n",
       "    <tr>\n",
       "      <th>6</th>\n",
       "      <td>7</td>\n",
       "      <td>beverages</td>\n",
       "    </tr>\n",
       "    <tr>\n",
       "      <th>7</th>\n",
       "      <td>8</td>\n",
       "      <td>pets</td>\n",
       "    </tr>\n",
       "    <tr>\n",
       "      <th>8</th>\n",
       "      <td>9</td>\n",
       "      <td>dry goods pasta</td>\n",
       "    </tr>\n",
       "    <tr>\n",
       "      <th>9</th>\n",
       "      <td>10</td>\n",
       "      <td>bulk</td>\n",
       "    </tr>\n",
       "    <tr>\n",
       "      <th>10</th>\n",
       "      <td>11</td>\n",
       "      <td>personal care</td>\n",
       "    </tr>\n",
       "    <tr>\n",
       "      <th>11</th>\n",
       "      <td>12</td>\n",
       "      <td>meat seafood</td>\n",
       "    </tr>\n",
       "    <tr>\n",
       "      <th>12</th>\n",
       "      <td>13</td>\n",
       "      <td>pantry</td>\n",
       "    </tr>\n",
       "    <tr>\n",
       "      <th>13</th>\n",
       "      <td>14</td>\n",
       "      <td>breakfast</td>\n",
       "    </tr>\n",
       "    <tr>\n",
       "      <th>14</th>\n",
       "      <td>15</td>\n",
       "      <td>canned goods</td>\n",
       "    </tr>\n",
       "    <tr>\n",
       "      <th>15</th>\n",
       "      <td>16</td>\n",
       "      <td>dairy eggs</td>\n",
       "    </tr>\n",
       "    <tr>\n",
       "      <th>16</th>\n",
       "      <td>17</td>\n",
       "      <td>household</td>\n",
       "    </tr>\n",
       "    <tr>\n",
       "      <th>17</th>\n",
       "      <td>18</td>\n",
       "      <td>babies</td>\n",
       "    </tr>\n",
       "    <tr>\n",
       "      <th>18</th>\n",
       "      <td>19</td>\n",
       "      <td>snacks</td>\n",
       "    </tr>\n",
       "    <tr>\n",
       "      <th>19</th>\n",
       "      <td>20</td>\n",
       "      <td>deli</td>\n",
       "    </tr>\n",
       "    <tr>\n",
       "      <th>20</th>\n",
       "      <td>21</td>\n",
       "      <td>missing</td>\n",
       "    </tr>\n",
       "  </tbody>\n",
       "</table>\n",
       "</div>"
      ],
      "text/plain": [
       "    department_id       department\n",
       "0               1           frozen\n",
       "1               2            other\n",
       "2               3           bakery\n",
       "3               4          produce\n",
       "4               5          alcohol\n",
       "5               6    international\n",
       "6               7        beverages\n",
       "7               8             pets\n",
       "8               9  dry goods pasta\n",
       "9              10             bulk\n",
       "10             11    personal care\n",
       "11             12     meat seafood\n",
       "12             13           pantry\n",
       "13             14        breakfast\n",
       "14             15     canned goods\n",
       "15             16       dairy eggs\n",
       "16             17        household\n",
       "17             18           babies\n",
       "18             19           snacks\n",
       "19             20             deli\n",
       "20             21          missing"
      ]
     },
     "execution_count": 24,
     "metadata": {},
     "output_type": "execute_result"
    }
   ],
   "source": [
    "departments.drop_duplicates()"
   ]
  },
  {
   "cell_type": "code",
   "execution_count": 25,
   "id": "4c32f576",
   "metadata": {},
   "outputs": [
    {
     "data": {
      "text/plain": [
       "0"
      ]
     },
     "execution_count": 25,
     "metadata": {},
     "output_type": "execute_result"
    }
   ],
   "source": [
    "check_departments = departments[departments.duplicated()]\n",
    "check_departments.shape[0]"
   ]
  },
  {
   "cell_type": "code",
   "execution_count": 26,
   "id": "9da89fb9-4679-40f5-ad0d-c34df753a3f8",
   "metadata": {},
   "outputs": [
    {
     "data": {
      "text/plain": [
       "134"
      ]
     },
     "execution_count": 26,
     "metadata": {},
     "output_type": "execute_result"
    }
   ],
   "source": [
    "duplicate_aisles = aisles.duplicated()\n",
    "duplicate_aisles.shape[0]"
   ]
  },
  {
   "cell_type": "code",
   "execution_count": 27,
   "id": "da7c2822",
   "metadata": {},
   "outputs": [],
   "source": [
    "aisles = aisles.drop_duplicates()"
   ]
  },
  {
   "cell_type": "code",
   "execution_count": 28,
   "id": "8327c52d",
   "metadata": {},
   "outputs": [
    {
     "data": {
      "text/plain": [
       "0"
      ]
     },
     "execution_count": 28,
     "metadata": {},
     "output_type": "execute_result"
    }
   ],
   "source": [
    "duplicate_aisles = aisles[aisles.duplicated()]\n",
    "duplicate_aisles.shape[0]"
   ]
  },
  {
   "cell_type": "code",
   "execution_count": 29,
   "id": "52326689-84a8-4b8f-a881-7c68780f62c9",
   "metadata": {},
   "outputs": [
    {
     "data": {
      "text/plain": [
       "4545007"
      ]
     },
     "execution_count": 29,
     "metadata": {},
     "output_type": "execute_result"
    }
   ],
   "source": [
    "duplicate_order_products = order_products.duplicated(subset=['order_id', 'product_id'])\n",
    "duplicate_order_products.shape[0]"
   ]
  },
  {
   "cell_type": "code",
   "execution_count": 30,
   "id": "7b861391",
   "metadata": {},
   "outputs": [
    {
     "data": {
      "text/plain": [
       "4545007"
      ]
     },
     "execution_count": 30,
     "metadata": {},
     "output_type": "execute_result"
    }
   ],
   "source": [
    "order_products = order_products.drop_duplicates(subset=['order_id', 'product_id'])\n",
    "duplicate_order_products = order_products.duplicated(subset=['order_id', 'product_id'])\n",
    "duplicate_order_products.shape[0]\n"
   ]
  },
  {
   "cell_type": "code",
   "execution_count": 31,
   "id": "fe4a8b0f",
   "metadata": {},
   "outputs": [],
   "source": [
    "missing_product_names = products[products['product_name'].isnull()]"
   ]
  },
  {
   "cell_type": "code",
   "execution_count": 32,
   "id": "e96167bc",
   "metadata": {},
   "outputs": [],
   "source": [
    "aisle_100_missing_names = missing_product_names[missing_product_names['aisle_id'] == 100]"
   ]
  },
  {
   "cell_type": "code",
   "execution_count": 33,
   "id": "8fd0a541",
   "metadata": {},
   "outputs": [],
   "source": [
    "department_21_missing_names = missing_product_names[missing_product_names['department_id'] == 21]"
   ]
  },
  {
   "cell_type": "code",
   "execution_count": 34,
   "id": "325c3464",
   "metadata": {},
   "outputs": [
    {
     "name": "stdout",
     "output_type": "stream",
     "text": [
      "    aisle_id    aisle\n",
      "99       100  missing\n",
      "\n",
      "    department_id department\n",
      "20             21    missing\n"
     ]
    }
   ],
   "source": [
    "aisle_100 = aisles[aisles['aisle_id'] == 100]\n",
    "department_21 = departments[departments['department_id'] == 21]\n",
    "print(aisle_100)\n",
    "print()\n",
    "print(department_21)"
   ]
  },
  {
   "cell_type": "code",
   "execution_count": 35,
   "id": "6b295120",
   "metadata": {},
   "outputs": [
    {
     "data": {
      "text/plain": [
       "0"
      ]
     },
     "execution_count": 35,
     "metadata": {},
     "output_type": "execute_result"
    }
   ],
   "source": [
    "products['product_name'].fillna('Unknown', inplace=True)\n",
    "missing_product_names = products[products['product_name'].isnull()]\n",
    "missing_product_names.shape[0]"
   ]
  },
  {
   "cell_type": "code",
   "execution_count": 37,
   "id": "93e41d96",
   "metadata": {},
   "outputs": [
    {
     "data": {
      "text/plain": [
       "28817"
      ]
     },
     "execution_count": 37,
     "metadata": {},
     "output_type": "execute_result"
    }
   ],
   "source": [
    "missing_days = orders[orders['days_since_prior_order'].isnull()]\n",
    "missing_days.shape[0]"
   ]
  },
  {
   "cell_type": "code",
   "execution_count": 38,
   "id": "166e5a86",
   "metadata": {},
   "outputs": [
    {
     "data": {
      "text/plain": [
       "0"
      ]
     },
     "execution_count": 38,
     "metadata": {},
     "output_type": "execute_result"
    }
   ],
   "source": [
    "missing_first_order = missing_days[missing_days['order_number'] != 1]\n",
    "missing_first_order.shape[0]"
   ]
  },
  {
   "cell_type": "code",
   "execution_count": 39,
   "id": "b8240253",
   "metadata": {},
   "outputs": [],
   "source": [
    "missing_add_to_cart_order = order_products[order_products['add_to_cart_order'].isnull()]"
   ]
  },
  {
   "cell_type": "code",
   "execution_count": 40,
   "id": "9a78e5ee",
   "metadata": {},
   "outputs": [
    {
     "name": "stdout",
     "output_type": "stream",
     "text": [
      "1.0 64.0\n"
     ]
    }
   ],
   "source": [
    "min = order_products['add_to_cart_order'].min()\n",
    "max = order_products['add_to_cart_order'].max()\n",
    "print(min,max)"
   ]
  },
  {
   "cell_type": "code",
   "execution_count": 41,
   "id": "ab9d0c2b",
   "metadata": {},
   "outputs": [
    {
     "data": {
      "text/plain": [
       "70"
      ]
     },
     "execution_count": 41,
     "metadata": {},
     "output_type": "execute_result"
    }
   ],
   "source": [
    "order_ids_with_missing_add_to_cart = missing_add_to_cart_order['order_id'].unique()\n",
    "order_ids_with_missing_add_to_cart.shape[0]"
   ]
  },
  {
   "cell_type": "code",
   "execution_count": 42,
   "id": "54c31695",
   "metadata": {},
   "outputs": [
    {
     "data": {
      "text/plain": [
       "70"
      ]
     },
     "execution_count": 42,
     "metadata": {},
     "output_type": "execute_result"
    }
   ],
   "source": [
    "orders_with_missing_values = order_products[order_products['order_id'].isin(order_ids_with_missing_add_to_cart)]\n",
    "order_counts = orders_with_missing_values['order_id'].value_counts()\n",
    "orders_with_more_than_64_products = order_counts[order_counts > 64]\n",
    "orders_with_more_than_64_products.shape[0]"
   ]
  },
  {
   "cell_type": "code",
   "execution_count": 43,
   "id": "7a987d08",
   "metadata": {},
   "outputs": [],
   "source": [
    "order_products['add_to_cart_order'] = order_products['add_to_cart_order'].astype('Int64', errors='ignore')"
   ]
  },
  {
   "cell_type": "code",
   "execution_count": 44,
   "id": "growing-fruit",
   "metadata": {},
   "outputs": [
    {
     "data": {
      "text/plain": [
       "[0,\n",
       " 1,\n",
       " 2,\n",
       " 3,\n",
       " 4,\n",
       " 5,\n",
       " 6,\n",
       " 7,\n",
       " 8,\n",
       " 9,\n",
       " 10,\n",
       " 11,\n",
       " 12,\n",
       " 13,\n",
       " 14,\n",
       " 15,\n",
       " 16,\n",
       " 17,\n",
       " 18,\n",
       " 19,\n",
       " 20,\n",
       " 21,\n",
       " 22,\n",
       " 23]"
      ]
     },
     "execution_count": 44,
     "metadata": {},
     "output_type": "execute_result"
    }
   ],
   "source": [
    "order_hour_of_day = orders['order_hour_of_day'].unique()\n",
    "sorted(order_hour_of_day)"
   ]
  },
  {
   "cell_type": "code",
   "execution_count": 45,
   "id": "accessory-malaysia",
   "metadata": {},
   "outputs": [
    {
     "data": {
      "text/plain": [
       "[0, 1, 2, 3, 4, 5, 6]"
      ]
     },
     "execution_count": 45,
     "metadata": {},
     "output_type": "execute_result"
    }
   ],
   "source": [
    "order_dow = orders['order_dow'].unique()\n",
    "sorted(order_dow)"
   ]
  },
  {
   "cell_type": "code",
   "execution_count": 46,
   "id": "a36cca27",
   "metadata": {
    "scrolled": true
   },
   "outputs": [
    {
     "data": {
      "image/png": "[encoded data removed]",
      "text/plain": [
       "<Figure size 1200x600 with 1 Axes>"
      ]
     },
     "metadata": {},
     "output_type": "display_data"
    },
    {
     "name": "stdout",
     "output_type": "stream",
     "text": [
      "\n",
      "Conclusion:\n",
      "The histogram shows the distribution of orders across different hours of the day. We observe that there are specific peaks and troughs in ordering behavior.\n",
      "- The highest number of orders occur between 9 AM and 10 AM, and again between 3 PM and 4 PM.\n",
      "- There are significantly fewer orders during the early morning hours (midnight to 5 AM).\n",
      "\n",
      "This information is valuable for business planning and resource allocation. For instance, increasing staffing levels during peak hours can help manage the higher order volume more efficiently, while resources can be minimized during low activity periods to optimize operational costs.\n",
      "\n"
     ]
    }
   ],
   "source": [
    "orders['order_hour_of_day'].plot(kind='hist', \n",
    "                                 bins=24, \n",
    "                                 color='skyblue', \n",
    "                                 edgecolor='black', \n",
    "                                 figsize=(12, 6), \n",
    "                                 grid=True)\n",
    "\n",
    "plt.title('Number of Orders by Hour of the Day')\n",
    "plt.xlabel('Hour of the Day')\n",
    "plt.ylabel('Number of Orders')\n",
    "plt.xticks(range(24))\n",
    "plt.show()\n",
    "\n",
    "conclusion = \"\"\"\n",
    "Conclusion:\n",
    "The histogram shows the distribution of orders across different hours of the day. We observe that there are specific peaks and troughs in ordering behavior.\n",
    "- The highest number of orders occur between 9 AM and 10 AM, and again between 3 PM and 4 PM.\n",
    "- There are significantly fewer orders during the early morning hours (midnight to 5 AM).\n",
    "\n",
    "This information is valuable for business planning and resource allocation. For instance, increasing staffing levels during peak hours can help manage the higher order volume more efficiently, while resources can be minimized during low activity periods to optimize operational costs.\n",
    "\"\"\"\n",
    "\n",
    "print(conclusion)"
   ]
  },
  {
   "cell_type": "code",
   "execution_count": 47,
   "id": "chief-digit",
   "metadata": {},
   "outputs": [
    {
     "data": {
      "image/png": "[encoded data removed]",
      "text/plain": [
       "<Figure size 1200x600 with 1 Axes>"
      ]
     },
     "metadata": {},
     "output_type": "display_data"
    }
   ],
   "source": [
    "orders['order_dow'].plot(kind='hist',\n",
    "                         bins=7,\n",
    "                         color='skyblue',\n",
    "                         edgecolor='black',\n",
    "                         title='Number of Orders by Day of the Week',\n",
    "                         figsize=(12, 6),\n",
    "                         xlabel='Day of the Week',\n",
    "                         ylabel='Number of Orders',\n",
    "                         grid=True,\n",
    "                         align='left'\n",
    "                        )\n",
    "plt.xticks(range(7))\n",
    "plt.show()"
   ]
  },
  {
   "cell_type": "code",
   "execution_count": 48,
   "id": "c231f523",
   "metadata": {},
   "outputs": [
    {
     "data": {
      "image/png": "[encoded data removed]",
      "text/plain": [
       "<Figure size 1200x600 with 1 Axes>"
      ]
     },
     "metadata": {},
     "output_type": "display_data"
    }
   ],
   "source": [
    "orders['days_since_prior_order'].dropna().plot(kind='hist', \n",
    "                                               bins=30, \n",
    "                                               color='skyblue', \n",
    "                                               edgecolor='black', \n",
    "                                               title='Distribution of Days Until Next Order', \n",
    "                                               figsize=(12, 6), \n",
    "                                               xlabel='Days Since Prior Order', \n",
    "                                               ylabel='Number of Orders', \n",
    "                                               grid=True\n",
    "                                              )\n",
    "plt.show()\n"
   ]
  },
  {
   "cell_type": "code",
   "execution_count": 49,
   "id": "exciting-fantasy",
   "metadata": {},
   "outputs": [
    {
     "name": "stdout",
     "output_type": "stream",
     "text": [
      "0.0\n",
      "\n",
      "30.0\n"
     ]
    }
   ],
   "source": [
    "min_day = orders['days_since_prior_order'].min()\n",
    "max_day = orders['days_since_prior_order'].max()\n",
    "print(min_day)\n",
    "print()\n",
    "print(max_day)"
   ]
  },
  {
   "cell_type": "code",
   "execution_count": 50,
   "id": "d89b8403",
   "metadata": {},
   "outputs": [],
   "source": [
    "wednesday_orders = orders[orders['order_dow'] == 3]\n",
    "saturday_orders = orders[orders['order_dow'] == 6] "
   ]
  },
  {
   "cell_type": "code",
   "execution_count": 51,
   "id": "94e54e8a",
   "metadata": {},
   "outputs": [
    {
     "data": {
      "image/png": "[encoded data removed]",
      "text/plain": [
       "<Figure size 1200x600 with 1 Axes>"
      ]
     },
     "metadata": {},
     "output_type": "display_data"
    }
   ],
   "source": [
    "plt.figure(figsize=(12, 6))\n",
    "plt.hist(wednesday_orders['order_hour_of_day'], bins=24, color='blue', edgecolor='black', alpha=0.5, label='Wednesday')\n",
    "plt.hist(saturday_orders['order_hour_of_day'], bins=24, color='orange', edgecolor='black', alpha=0.5, label='Saturday')\n",
    "plt.title('Order Hour of Day Distribution for Wednesdays and Saturdays')\n",
    "plt.xlabel('Hour of the Day')\n",
    "plt.ylabel('Number of Orders')\n",
    "plt.legend()\n",
    "plt.grid(axis='y')\n",
    "plt.show()"
   ]
  },
  {
   "cell_type": "code",
   "execution_count": 52,
   "id": "d8c26c23",
   "metadata": {},
   "outputs": [
    {
     "data": {
      "image/png": "[encoded data removed]",
      "text/plain": [
       "<Figure size 1200x600 with 1 Axes>"
      ]
     },
     "metadata": {},
     "output_type": "display_data"
    }
   ],
   "source": [
    "orders_per_customer = orders['user_id'].value_counts()\n",
    "orders_per_customer.plot(kind='hist', \n",
    "                         bins=50, \n",
    "                         color='green', \n",
    "                         edgecolor='black', \n",
    "                         figsize=(12, 6), \n",
    "                         title='Distribution of Number of Orders per Customer', \n",
    "                         xlabel='Number of Orders', \n",
    "                         ylabel='Number of Customers', \n",
    "                         grid=True\n",
    "                        )\n",
    "plt.show()"
   ]
  },
  {
   "cell_type": "code",
   "execution_count": 53,
   "id": "exterior-arizona",
   "metadata": {
    "scrolled": true
   },
   "outputs": [
    {
     "name": "stdout",
     "output_type": "stream",
     "text": [
      "       product_id              product_name\n",
      "5875         5876             Organic Lemon\n",
      "8276         8277  Apple Honeycrisp Organic\n",
      "13175       13176    Bag of Organic Bananas\n",
      "16796       16797              Strawberries\n",
      "21136       21137      Organic Strawberries\n",
      "21902       21903      Organic Baby Spinach\n",
      "22934       22935      Organic Yellow Onion\n",
      "24851       24852                    Banana\n",
      "24963       24964            Organic Garlic\n",
      "26208       26209                     Limes\n",
      "27844       27845        Organic Whole Milk\n",
      "27965       27966       Organic Raspberries\n",
      "28203       28204        Organic Fuji Apple\n",
      "39274       39275       Organic Blueberries\n",
      "40705       40706    Organic Grape Tomatoes\n",
      "45006       45007          Organic Zucchini\n",
      "47208       47209      Organic Hass Avocado\n",
      "47625       47626               Large Lemon\n",
      "47765       47766           Organic Avocado\n",
      "49682       49683            Cucumber Kirby\n"
     ]
    }
   ],
   "source": [
    "top_20_products = order_products['product_id'].value_counts().head(20).index\n",
    "top_20_products_df = products[products['product_id'].isin(top_20_products)]\n",
    "print(top_20_products_df[['product_id', 'product_name']])"
   ]
  },
  {
   "cell_type": "code",
   "execution_count": 54,
   "id": "virtual-punch",
   "metadata": {},
   "outputs": [
    {
     "data": {
      "image/png": "[encoded data removed]",
      "text/plain": [
       "<Figure size 1200x600 with 1 Axes>"
      ]
     },
     "metadata": {},
     "output_type": "display_data"
    }
   ],
   "source": [
    "items_per_order = order_products['order_id'].value_counts()\n",
    "\n",
    "items_per_order.plot(kind='hist', \n",
    "                     bins=50, \n",
    "                     color='purple', \n",
    "                     edgecolor='black', \n",
    "                     figsize=(12, 6), \n",
    "                     title='Distribution of Number of Items per Order', \n",
    "                     xlabel='Number of Items', \n",
    "                     ylabel='Number of Orders', \n",
    "                     grid=True\n",
    "                    )\n",
    "\n",
    "plt.show()"
   ]
  },
  {
   "cell_type": "code",
   "execution_count": 55,
   "id": "9374e55a",
   "metadata": {},
   "outputs": [
    {
     "name": "stdout",
     "output_type": "stream",
     "text": [
      "       product_id              product_name\n",
      "5875         5876             Organic Lemon\n",
      "8276         8277  Apple Honeycrisp Organic\n",
      "13175       13176    Bag of Organic Bananas\n",
      "16796       16797              Strawberries\n",
      "21136       21137      Organic Strawberries\n",
      "21902       21903      Organic Baby Spinach\n",
      "22934       22935      Organic Yellow Onion\n",
      "24851       24852                    Banana\n",
      "24963       24964            Organic Garlic\n",
      "26208       26209                     Limes\n",
      "27844       27845        Organic Whole Milk\n",
      "27965       27966       Organic Raspberries\n",
      "28203       28204        Organic Fuji Apple\n",
      "39274       39275       Organic Blueberries\n",
      "45006       45007          Organic Zucchini\n",
      "47208       47209      Organic Hass Avocado\n",
      "47625       47626               Large Lemon\n",
      "47765       47766           Organic Avocado\n",
      "49234       49235       Organic Half & Half\n",
      "49682       49683            Cucumber Kirby\n"
     ]
    }
   ],
   "source": [
    "top_20_reordered = order_products[order_products['reordered'] == 1]['product_id'].value_counts().head(20).index\n",
    "top_20_reordered_df = products[products['product_id'].isin(top_20_reordered)]\n",
    "print(top_20_reordered_df[['product_id', 'product_name']])"
   ]
  },
  {
   "cell_type": "code",
   "execution_count": 56,
   "id": "8ae9f4b1",
   "metadata": {},
   "outputs": [
    {
     "name": "stdout",
     "output_type": "stream",
     "text": [
      "       product_id  reordered  \\\n",
      "0               1   0.564286   \n",
      "1               2   0.000000   \n",
      "2               3   0.738095   \n",
      "3               4   0.510204   \n",
      "4               7   0.500000   \n",
      "...           ...        ...   \n",
      "45568       49690   0.800000   \n",
      "45569       49691   0.430556   \n",
      "45570       49692   0.416667   \n",
      "45571       49693   0.440000   \n",
      "45572       49694   0.333333   \n",
      "\n",
      "                                            product_name  \n",
      "0                             Chocolate Sandwich Cookies  \n",
      "1                                       All-Seasons Salt  \n",
      "2                   Robust Golden Unsweetened Oolong Tea  \n",
      "3      Smart Ones Classic Favorites Mini Rigatoni Wit...  \n",
      "4                         Pure Coconut Water With Orange  \n",
      "...                                                  ...  \n",
      "45568                      HIGH PERFORMANCE ENERGY DRINK  \n",
      "45569                      ORIGINAL PANCAKE & WAFFLE MIX  \n",
      "45570    ORGANIC INSTANT OATMEAL LIGHT MAPLE BROWN SUGAR  \n",
      "45571                             SPRING WATER BODY WASH  \n",
      "45572                            BURRITO- STEAK & CHEESE  \n",
      "\n",
      "[45573 rows x 3 columns]\n"
     ]
    }
   ],
   "source": [
    "reorder_proportions = order_products.groupby('product_id')['reordered'].mean().reset_index()\n",
    "reorder_proportions = reorder_proportions.merge(products[['product_id', 'product_name']], on='product_id')\n",
    "print(reorder_proportions)"
   ]
  },
  {
   "cell_type": "code",
   "execution_count": 57,
   "id": "medical-couple",
   "metadata": {
    "scrolled": true
   },
   "outputs": [
    {
     "name": "stdout",
     "output_type": "stream",
     "text": [
      "        user_id  reordered\n",
      "0             2   0.038462\n",
      "1             4   0.000000\n",
      "2             5   0.666667\n",
      "3             6   0.000000\n",
      "4             7   0.944444\n",
      "...         ...        ...\n",
      "149621   206203   0.222222\n",
      "149622   206206   0.690476\n",
      "149623   206207   0.815000\n",
      "149624   206208   0.731443\n",
      "149625   206209   0.347222\n",
      "\n",
      "[149626 rows x 2 columns]\n"
     ]
    }
   ],
   "source": [
    "customer_reorder_proportions = order_products.groupby('order_id')['reordered'].mean().reset_index()\n",
    "customer_reorder_proportions = customer_reorder_proportions.merge(orders[['order_id', 'user_id']], on='order_id')\n",
    "customer_reorder_proportions = customer_reorder_proportions.groupby('user_id')['reordered'].mean().reset_index()\n",
    "print(customer_reorder_proportions)"
   ]
  },
  {
   "cell_type": "code",
   "execution_count": 58,
   "id": "0ae57274",
   "metadata": {
    "scrolled": true
   },
   "outputs": [
    {
     "name": "stdout",
     "output_type": "stream",
     "text": [
      "       product_id                 product_name\n",
      "195           196                         Soda\n",
      "5784         5785  Organic Reduced Fat 2% Milk\n",
      "12340       12341                Hass Avocados\n",
      "13175       13176       Bag of Organic Bananas\n",
      "16796       16797                 Strawberries\n",
      "19659       19660                 Spring Water\n",
      "21136       21137         Organic Strawberries\n",
      "21902       21903         Organic Baby Spinach\n",
      "24851       24852                       Banana\n",
      "26208       26209                        Limes\n",
      "27085       27086                  Half & Half\n",
      "27844       27845           Organic Whole Milk\n",
      "27965       27966          Organic Raspberries\n",
      "38688       38689     Organic Reduced Fat Milk\n",
      "43351       43352                  Raspberries\n",
      "44631       44632   Sparkling Water Grapefruit\n",
      "47208       47209         Organic Hass Avocado\n",
      "47625       47626                  Large Lemon\n",
      "47765       47766              Organic Avocado\n",
      "49234       49235          Organic Half & Half\n"
     ]
    }
   ],
   "source": [
    "first_cart_items = order_products[order_products['add_to_cart_order'] == 1]\n",
    "top_20 = first_cart_items['product_id'].value_counts().head(20).index\n",
    "top_20_df = products[products['product_id'].isin(top_20)]\n",
    "print(top_20_df[['product_id', 'product_name']])"
   ]
  },
  {
   "cell_type": "code",
   "execution_count": 59,
   "id": "0d7125eb",
   "metadata": {},
   "outputs": [
    {
     "data": {
      "image/png": "[encoded data removed]",
      "text/plain": [
       "<Figure size 1200x800 with 1 Axes>"
      ]
     },
     "metadata": {},
     "output_type": "display_data"
    }
   ],
   "source": [
    "plt.figure(figsize=(12, 8))\n",
    "plt.barh(top_20_df['product_name'], top_20.values, color='skyblue', edgecolor='black')\n",
    "plt.xlabel('Number of Times Added First to Cart')\n",
    "plt.ylabel('Product Name')\n",
    "plt.title('Top 20 Most Frequently First-Added Products')\n",
    "plt.gca().invert_yaxis()\n",
    "plt.grid(axis='x')"
   ]
  },
  {
   "cell_type": "markdown",
   "id": "be016650-de2f-4bc7-bb06-112cc168997d",
   "metadata": {},
   "source": [
    "# Overall Project Summary\n",
    "\n",
    "This project focused on analyzing Instacart's dataset to understand customer behavior, popular products, and trends in ordering patterns. Here's a summary of the key steps and insights gained:\n",
    "\n",
    "## Data Preprocessing\n",
    "\n",
    "### 1. Duplicate Values Handling:\n",
    "- Checked and removed duplicate entries in orders, products, departments, aisles, and `order_products` data.\n",
    "\n",
    "### 2. Missing Values Handling:\n",
    "- Filled missing product names with `'Unknown'`.\n",
    "- Checked for missing values in `orders` and `order_products` data.\n",
    "- Replaced missing values in `order_products` data with `999` and converted to integer type.\n",
    "\n",
    "## Exploratory Data Analysis (EDA)\n",
    "\n",
    "### 3. Data Verification:\n",
    "- Verified the sensibility of `'order_hour_of_day'` and `'order_dow'` values in the orders table.\n",
    "\n",
    "### 4. Insights from Analysis:\n",
    "- Identified peak shopping times and days of the week for grocery shopping.\n",
    "- Analyzed the distribution of days until the next order.\n",
    "- Compared the distribution of `'order_hour_of_day'` on Wednesdays and Saturdays.\n",
    "- Explored the distribution of orders per customer.\n",
    "- Identified the top 20 most popular products.\n",
    "- Analyzed the distribution of items per order.\n",
    "- Identified the top 20 most reordered items.\n",
    "- Calculated the proportion of reorders for each product and customer.\n",
    "- Identified the top 20 items added first to the cart.\n",
    "\n",
    "## Key Findings\n",
    "\n",
    "- Most orders are placed during daytime hours, with a\n"
   ]
  }
 ],
 "metadata": {
  "ExecuteTimeLog": [
   {
    "duration": 461,
    "start_time": "2024-05-22T04:48:32.740Z"
   },
   {
    "duration": 447,
    "start_time": "2024-05-22T05:27:43.911Z"
   },
   {
    "duration": 80,
    "start_time": "2024-05-22T05:28:16.203Z"
   },
   {
    "duration": 10,
    "start_time": "2024-05-22T05:29:32.600Z"
   },
   {
    "duration": 10,
    "start_time": "2024-05-22T05:29:58.369Z"
   },
   {
    "duration": 3859,
    "start_time": "2024-05-22T05:30:53.919Z"
   },
   {
    "duration": 3388,
    "start_time": "2024-05-22T05:31:34.325Z"
   },
   {
    "duration": 146,
    "start_time": "2024-05-22T05:33:52.726Z"
   },
   {
    "duration": 266,
    "start_time": "2024-05-22T05:34:16.760Z"
   },
   {
    "duration": 1126,
    "start_time": "2024-05-22T05:37:19.559Z"
   },
   {
    "duration": 99,
    "start_time": "2024-05-22T05:37:49.109Z"
   },
   {
    "duration": 86,
    "start_time": "2024-05-22T05:38:02.656Z"
   },
   {
    "duration": 288,
    "start_time": "2024-05-22T05:38:50.298Z"
   },
   {
    "duration": 77,
    "start_time": "2024-05-22T05:39:06.449Z"
   },
   {
    "duration": 3,
    "start_time": "2024-05-22T05:39:42.957Z"
   },
   {
    "duration": 73,
    "start_time": "2024-05-22T05:39:45.277Z"
   },
   {
    "duration": 74,
    "start_time": "2024-05-22T05:40:11.835Z"
   },
   {
    "duration": 74,
    "start_time": "2024-05-22T05:40:17.361Z"
   },
   {
    "duration": 80,
    "start_time": "2024-05-22T05:42:45.104Z"
   },
   {
    "duration": 76,
    "start_time": "2024-05-22T05:42:50.689Z"
   },
   {
    "duration": 296,
    "start_time": "2024-05-22T05:43:31.967Z"
   },
   {
    "duration": 3,
    "start_time": "2024-05-22T05:44:06.095Z"
   },
   {
    "duration": 84,
    "start_time": "2024-05-22T05:45:55.961Z"
   },
   {
    "duration": 7,
    "start_time": "2024-05-22T05:46:02.114Z"
   },
   {
    "duration": 75,
    "start_time": "2024-05-22T05:46:18.057Z"
   },
   {
    "duration": 21,
    "start_time": "2024-05-22T05:46:48.104Z"
   },
   {
    "duration": 20,
    "start_time": "2024-05-22T05:46:57.222Z"
   },
   {
    "duration": 8,
    "start_time": "2024-05-22T05:47:05.622Z"
   },
   {
    "duration": 5,
    "start_time": "2024-05-22T05:47:46.981Z"
   },
   {
    "duration": 83,
    "start_time": "2024-05-22T05:47:55.317Z"
   },
   {
    "duration": 74,
    "start_time": "2024-05-22T05:48:07.431Z"
   },
   {
    "duration": 85,
    "start_time": "2024-05-22T05:48:25.642Z"
   },
   {
    "duration": 91,
    "start_time": "2024-05-22T05:48:32.457Z"
   },
   {
    "duration": 303,
    "start_time": "2024-05-22T05:49:41.888Z"
   },
   {
    "duration": 73,
    "start_time": "2024-05-22T05:49:53.768Z"
   },
   {
    "duration": 265,
    "start_time": "2024-05-22T05:49:59.787Z"
   },
   {
    "duration": 75,
    "start_time": "2024-05-22T05:50:03.195Z"
   },
   {
    "duration": 273,
    "start_time": "2024-05-22T05:51:22.148Z"
   },
   {
    "duration": 278,
    "start_time": "2024-05-22T05:51:36.054Z"
   },
   {
    "duration": 18,
    "start_time": "2024-05-22T05:53:12.067Z"
   },
   {
    "duration": 25,
    "start_time": "2024-05-22T05:53:38.105Z"
   },
   {
    "duration": 22,
    "start_time": "2024-05-22T05:54:13.934Z"
   },
   {
    "duration": 23,
    "start_time": "2024-05-22T05:54:23.412Z"
   },
   {
    "duration": 21,
    "start_time": "2024-05-22T05:54:34.742Z"
   },
   {
    "duration": 95,
    "start_time": "2024-05-22T05:56:41.540Z"
   },
   {
    "duration": 23,
    "start_time": "2024-05-22T05:57:25.423Z"
   },
   {
    "duration": 76,
    "start_time": "2024-05-22T05:57:32.156Z"
   },
   {
    "duration": 3,
    "start_time": "2024-05-22T05:57:43.187Z"
   },
   {
    "duration": 4,
    "start_time": "2024-05-22T05:57:49.583Z"
   },
   {
    "duration": 416,
    "start_time": "2024-05-23T17:14:59.581Z"
   },
   {
    "duration": 3965,
    "start_time": "2024-05-23T17:15:00.006Z"
   },
   {
    "duration": 453,
    "start_time": "2024-05-23T17:15:03.974Z"
   },
   {
    "duration": 81,
    "start_time": "2024-05-23T17:15:04.430Z"
   },
   {
    "duration": 14,
    "start_time": "2024-05-23T17:15:04.514Z"
   },
   {
    "duration": 10,
    "start_time": "2024-05-23T17:15:04.530Z"
   },
   {
    "duration": 274,
    "start_time": "2024-05-23T17:15:13.310Z"
   },
   {
    "duration": 1234,
    "start_time": "2024-05-23T17:18:52.354Z"
   },
   {
    "duration": 74,
    "start_time": "2024-05-23T17:19:19.645Z"
   },
   {
    "duration": 282,
    "start_time": "2024-05-23T17:19:44.711Z"
   },
   {
    "duration": 276,
    "start_time": "2024-05-23T17:19:51.508Z"
   },
   {
    "duration": 78,
    "start_time": "2024-05-23T17:20:12.648Z"
   },
   {
    "duration": 74,
    "start_time": "2024-05-23T17:20:19.742Z"
   },
   {
    "duration": 79,
    "start_time": "2024-05-23T17:20:31.908Z"
   },
   {
    "duration": 5,
    "start_time": "2024-05-23T18:13:56.049Z"
   },
   {
    "duration": 204,
    "start_time": "2024-05-23T18:17:08.141Z"
   },
   {
    "duration": 78,
    "start_time": "2024-05-23T18:17:42.276Z"
   },
   {
    "duration": 21,
    "start_time": "2024-05-23T18:17:51.014Z"
   },
   {
    "duration": 3,
    "start_time": "2024-05-23T18:21:45.309Z"
   },
   {
    "duration": 3,
    "start_time": "2024-05-23T18:21:45.769Z"
   },
   {
    "duration": 196,
    "start_time": "2024-05-23T18:21:46.121Z"
   },
   {
    "duration": 46,
    "start_time": "2024-05-23T18:21:46.488Z"
   },
   {
    "duration": 9,
    "start_time": "2024-05-23T18:21:46.804Z"
   },
   {
    "duration": 8,
    "start_time": "2024-05-23T18:21:47.299Z"
   },
   {
    "duration": 148,
    "start_time": "2024-05-23T18:21:49.581Z"
   },
   {
    "duration": 14,
    "start_time": "2024-05-23T18:21:52.002Z"
   },
   {
    "duration": 184,
    "start_time": "2024-05-23T18:21:54.485Z"
   },
   {
    "duration": 208,
    "start_time": "2024-05-23T18:24:18.054Z"
   },
   {
    "duration": 411,
    "start_time": "2024-05-23T18:25:09.112Z"
   },
   {
    "duration": 175,
    "start_time": "2024-05-23T18:25:20.247Z"
   },
   {
    "duration": 156,
    "start_time": "2024-05-23T18:25:29.926Z"
   },
   {
    "duration": 139,
    "start_time": "2024-05-23T18:25:46.382Z"
   },
   {
    "duration": 162,
    "start_time": "2024-05-23T18:26:05.134Z"
   },
   {
    "duration": 91,
    "start_time": "2024-05-23T18:27:41.382Z"
   },
   {
    "duration": 91,
    "start_time": "2024-05-23T18:27:55.370Z"
   },
   {
    "duration": 90,
    "start_time": "2024-05-23T18:28:04.156Z"
   },
   {
    "duration": 80,
    "start_time": "2024-05-23T18:28:11.346Z"
   },
   {
    "duration": 425,
    "start_time": "2024-05-23T23:50:39.197Z"
   },
   {
    "duration": 3812,
    "start_time": "2024-05-23T23:50:39.626Z"
   },
   {
    "duration": 234,
    "start_time": "2024-05-23T23:50:43.441Z"
   },
   {
    "duration": 79,
    "start_time": "2024-05-23T23:50:43.678Z"
   },
   {
    "duration": 10,
    "start_time": "2024-05-23T23:50:43.762Z"
   },
   {
    "duration": 9,
    "start_time": "2024-05-23T23:50:43.776Z"
   },
   {
    "duration": 3374,
    "start_time": "2024-05-23T23:50:43.787Z"
   },
   {
    "duration": 183,
    "start_time": "2024-05-23T23:50:47.165Z"
   },
   {
    "duration": 189,
    "start_time": "2024-05-23T23:50:47.848Z"
   },
   {
    "duration": 167,
    "start_time": "2024-05-23T23:50:50.891Z"
   },
   {
    "duration": 88,
    "start_time": "2024-05-23T23:50:53.565Z"
   },
   {
    "duration": 22,
    "start_time": "2024-05-23T23:51:31.967Z"
   },
   {
    "duration": 148,
    "start_time": "2024-05-23T23:53:20.075Z"
   },
   {
    "duration": 246,
    "start_time": "2024-05-23T23:53:38.215Z"
   },
   {
    "duration": 20,
    "start_time": "2024-05-23T23:54:14.365Z"
   },
   {
    "duration": 51,
    "start_time": "2024-05-23T23:54:23.823Z"
   },
   {
    "duration": 19,
    "start_time": "2024-05-23T23:54:29.525Z"
   },
   {
    "duration": 18,
    "start_time": "2024-05-23T23:54:42.708Z"
   },
   {
    "duration": 8,
    "start_time": "2024-05-23T23:55:08.779Z"
   },
   {
    "duration": 8,
    "start_time": "2024-05-23T23:55:22.265Z"
   },
   {
    "duration": 25,
    "start_time": "2024-05-23T23:55:29.193Z"
   },
   {
    "duration": 11,
    "start_time": "2024-05-23T23:55:45.745Z"
   },
   {
    "duration": 45,
    "start_time": "2024-05-24T00:01:41.092Z"
   },
   {
    "duration": 23,
    "start_time": "2024-05-24T00:11:11.467Z"
   },
   {
    "duration": 22,
    "start_time": "2024-05-24T00:11:20.595Z"
   },
   {
    "duration": 22,
    "start_time": "2024-05-24T00:11:29.016Z"
   },
   {
    "duration": 8,
    "start_time": "2024-05-24T00:12:22.982Z"
   },
   {
    "duration": 37,
    "start_time": "2024-05-24T00:12:48.588Z"
   },
   {
    "duration": 18,
    "start_time": "2024-05-24T00:12:57.081Z"
   },
   {
    "duration": 213,
    "start_time": "2024-05-24T00:30:45.704Z"
   },
   {
    "duration": 9,
    "start_time": "2024-05-24T00:31:02.900Z"
   },
   {
    "duration": 28,
    "start_time": "2024-05-24T00:31:09.847Z"
   },
   {
    "duration": 232,
    "start_time": "2024-05-24T00:31:14.936Z"
   },
   {
    "duration": 12,
    "start_time": "2024-05-24T00:31:26.759Z"
   },
   {
    "duration": 123,
    "start_time": "2024-05-24T00:31:56.104Z"
   },
   {
    "duration": 101,
    "start_time": "2024-05-24T00:31:59.395Z"
   },
   {
    "duration": 22,
    "start_time": "2024-05-24T00:34:51.486Z"
   },
   {
    "duration": 76,
    "start_time": "2024-05-24T00:34:58.857Z"
   },
   {
    "duration": 6,
    "start_time": "2024-05-24T00:35:03.998Z"
   },
   {
    "duration": 18,
    "start_time": "2024-05-24T00:35:26.181Z"
   },
   {
    "duration": 12,
    "start_time": "2024-05-24T00:35:41.468Z"
   },
   {
    "duration": 20,
    "start_time": "2024-05-24T00:36:44.992Z"
   },
   {
    "duration": 5,
    "start_time": "2024-05-24T00:36:49.709Z"
   },
   {
    "duration": 5,
    "start_time": "2024-05-24T00:37:04.734Z"
   },
   {
    "duration": 5,
    "start_time": "2024-05-24T00:37:14.044Z"
   },
   {
    "duration": 6,
    "start_time": "2024-05-24T00:37:20.800Z"
   },
   {
    "duration": 11,
    "start_time": "2024-05-24T00:37:25.782Z"
   },
   {
    "duration": 5,
    "start_time": "2024-05-24T00:37:33.306Z"
   },
   {
    "duration": 8,
    "start_time": "2024-05-24T00:37:51.218Z"
   },
   {
    "duration": 5,
    "start_time": "2024-05-24T00:38:14.145Z"
   },
   {
    "duration": 26,
    "start_time": "2024-05-24T00:38:28.602Z"
   },
   {
    "duration": 6,
    "start_time": "2024-05-24T00:38:40.714Z"
   },
   {
    "duration": 5,
    "start_time": "2024-05-24T00:38:48.251Z"
   },
   {
    "duration": 7,
    "start_time": "2024-05-24T00:39:26.395Z"
   },
   {
    "duration": 3718,
    "start_time": "2024-05-24T01:22:25.893Z"
   },
   {
    "duration": 6777,
    "start_time": "2024-05-24T01:23:13.508Z"
   },
   {
    "duration": 6516,
    "start_time": "2024-05-24T01:23:38.349Z"
   },
   {
    "duration": 6545,
    "start_time": "2024-05-24T01:24:04.743Z"
   },
   {
    "duration": 6,
    "start_time": "2024-05-24T05:07:47.646Z"
   },
   {
    "duration": 308,
    "start_time": "2024-05-24T05:09:07.617Z"
   },
   {
    "duration": 64,
    "start_time": "2024-05-24T05:09:28.268Z"
   },
   {
    "duration": 10,
    "start_time": "2024-05-24T05:09:28.649Z"
   },
   {
    "duration": 10,
    "start_time": "2024-05-24T05:09:29.006Z"
   },
   {
    "duration": 1411,
    "start_time": "2024-05-24T05:09:29.409Z"
   },
   {
    "duration": 49,
    "start_time": "2024-05-24T05:09:35.685Z"
   },
   {
    "duration": 54,
    "start_time": "2024-05-24T05:09:49.576Z"
   },
   {
    "duration": 22,
    "start_time": "2024-05-24T05:10:16.210Z"
   },
   {
    "duration": 7,
    "start_time": "2024-05-24T05:10:19.614Z"
   },
   {
    "duration": 5,
    "start_time": "2024-05-24T05:10:22.119Z"
   },
   {
    "duration": 50,
    "start_time": "2024-05-24T05:10:30.406Z"
   },
   {
    "duration": 4,
    "start_time": "2024-05-24T05:10:51.935Z"
   },
   {
    "duration": 8,
    "start_time": "2024-05-24T05:11:07.730Z"
   },
   {
    "duration": 11,
    "start_time": "2024-05-24T05:11:18.155Z"
   },
   {
    "duration": 822,
    "start_time": "2024-05-24T05:12:50.907Z"
   },
   {
    "duration": 5,
    "start_time": "2024-05-24T05:13:08.824Z"
   },
   {
    "duration": 80,
    "start_time": "2024-05-24T05:14:39.052Z"
   },
   {
    "duration": 27,
    "start_time": "2024-05-24T05:14:52.690Z"
   },
   {
    "duration": 28,
    "start_time": "2024-05-24T05:15:00.360Z"
   },
   {
    "duration": 28,
    "start_time": "2024-05-24T05:15:08.159Z"
   },
   {
    "duration": 9,
    "start_time": "2024-05-24T05:15:18.470Z"
   },
   {
    "duration": 9,
    "start_time": "2024-05-24T05:15:27.574Z"
   },
   {
    "duration": 7,
    "start_time": "2024-05-24T05:20:18.832Z"
   },
   {
    "duration": 10,
    "start_time": "2024-05-24T05:20:30.922Z"
   },
   {
    "duration": 13,
    "start_time": "2024-05-24T05:20:43.090Z"
   },
   {
    "duration": 9,
    "start_time": "2024-05-24T05:30:24.295Z"
   },
   {
    "duration": 9,
    "start_time": "2024-05-24T05:30:33.569Z"
   },
   {
    "duration": 12,
    "start_time": "2024-05-24T05:31:35.881Z"
   },
   {
    "duration": 10,
    "start_time": "2024-05-24T05:31:49.846Z"
   },
   {
    "duration": 8,
    "start_time": "2024-05-24T05:31:57.432Z"
   },
   {
    "duration": 7,
    "start_time": "2024-05-24T05:32:24.720Z"
   },
   {
    "duration": 47,
    "start_time": "2024-05-24T06:13:36.569Z"
   },
   {
    "duration": 35,
    "start_time": "2024-05-24T06:14:43.939Z"
   },
   {
    "duration": 11,
    "start_time": "2024-05-24T06:14:52.473Z"
   },
   {
    "duration": 26,
    "start_time": "2024-05-24T06:25:22.507Z"
   },
   {
    "duration": 23,
    "start_time": "2024-05-24T06:25:36.249Z"
   },
   {
    "duration": 199,
    "start_time": "2024-05-24T06:25:56.509Z"
   },
   {
    "duration": 27,
    "start_time": "2024-05-24T06:26:06.269Z"
   },
   {
    "duration": 6,
    "start_time": "2024-05-24T06:28:14.536Z"
   },
   {
    "duration": 101,
    "start_time": "2024-05-24T06:28:19.858Z"
   },
   {
    "duration": 107,
    "start_time": "2024-05-24T06:28:45.017Z"
   },
   {
    "duration": 12,
    "start_time": "2024-05-24T06:29:01.587Z"
   },
   {
    "duration": 496,
    "start_time": "2024-05-25T00:40:22.818Z"
   },
   {
    "duration": 4094,
    "start_time": "2024-05-25T00:40:23.317Z"
   },
   {
    "duration": 272,
    "start_time": "2024-05-25T00:40:27.415Z"
   },
   {
    "duration": 92,
    "start_time": "2024-05-25T00:40:29.131Z"
   },
   {
    "duration": 10,
    "start_time": "2024-05-25T00:40:29.644Z"
   },
   {
    "duration": 9,
    "start_time": "2024-05-25T00:40:30.073Z"
   },
   {
    "duration": 1411,
    "start_time": "2024-05-25T00:40:30.463Z"
   },
   {
    "duration": 189,
    "start_time": "2024-05-25T00:40:33.150Z"
   },
   {
    "duration": 16,
    "start_time": "2024-05-25T00:40:35.236Z"
   },
   {
    "duration": 229,
    "start_time": "2024-05-25T00:40:38.810Z"
   },
   {
    "duration": 189,
    "start_time": "2024-05-25T00:40:40.974Z"
   },
   {
    "duration": 109,
    "start_time": "2024-05-25T00:40:42.645Z"
   },
   {
    "duration": 228,
    "start_time": "2024-05-25T00:40:44.320Z"
   },
   {
    "duration": 130,
    "start_time": "2024-05-25T00:40:46.428Z"
   },
   {
    "duration": 44,
    "start_time": "2024-05-25T00:40:48.311Z"
   },
   {
    "duration": 22,
    "start_time": "2024-05-25T00:40:50.859Z"
   },
   {
    "duration": 7,
    "start_time": "2024-05-25T00:40:53.117Z"
   },
   {
    "duration": 14,
    "start_time": "2024-05-25T00:40:54.997Z"
   },
   {
    "duration": 6,
    "start_time": "2024-05-25T00:40:56.736Z"
   },
   {
    "duration": 8,
    "start_time": "2024-05-25T00:40:58.351Z"
   },
   {
    "duration": 5,
    "start_time": "2024-05-25T00:41:00.549Z"
   },
   {
    "duration": 9,
    "start_time": "2024-05-25T00:41:02.149Z"
   },
   {
    "duration": 1453,
    "start_time": "2024-05-25T00:41:03.959Z"
   },
   {
    "duration": 3095,
    "start_time": "2024-05-25T00:41:05.416Z"
   },
   {
    "duration": 9,
    "start_time": "2024-05-25T00:41:11.935Z"
   },
   {
    "duration": 5,
    "start_time": "2024-05-25T00:41:13.187Z"
   },
   {
    "duration": 6,
    "start_time": "2024-05-25T00:41:13.503Z"
   },
   {
    "duration": 13,
    "start_time": "2024-05-25T00:41:13.873Z"
   },
   {
    "duration": 13,
    "start_time": "2024-05-25T00:41:14.380Z"
   },
   {
    "duration": 11,
    "start_time": "2024-05-25T00:41:17.002Z"
   },
   {
    "duration": 8,
    "start_time": "2024-05-25T00:41:17.481Z"
   },
   {
    "duration": 52,
    "start_time": "2024-05-25T00:41:19.168Z"
   },
   {
    "duration": 429,
    "start_time": "2024-05-25T00:41:19.600Z"
   },
   {
    "duration": 30,
    "start_time": "2024-05-25T00:41:20.041Z"
   },
   {
    "duration": 53,
    "start_time": "2024-05-25T00:41:25.660Z"
   },
   {
    "duration": 21,
    "start_time": "2024-05-25T00:41:26.582Z"
   },
   {
    "duration": 12,
    "start_time": "2024-05-25T00:41:45.249Z"
   },
   {
    "duration": 7,
    "start_time": "2024-05-25T00:42:26.996Z"
   },
   {
    "duration": 25,
    "start_time": "2024-05-25T00:42:28.059Z"
   },
   {
    "duration": 25,
    "start_time": "2024-05-25T00:42:28.628Z"
   },
   {
    "duration": 8,
    "start_time": "2024-05-25T00:42:50.443Z"
   },
   {
    "duration": 25,
    "start_time": "2024-05-25T00:42:50.801Z"
   },
   {
    "duration": 7,
    "start_time": "2024-05-25T00:42:51.253Z"
   },
   {
    "duration": 10,
    "start_time": "2024-05-25T00:42:51.956Z"
   },
   {
    "duration": 12,
    "start_time": "2024-05-25T00:42:53.183Z"
   },
   {
    "duration": 11,
    "start_time": "2024-05-25T00:43:48.841Z"
   },
   {
    "duration": 9,
    "start_time": "2024-05-25T00:44:03.979Z"
   },
   {
    "duration": 10,
    "start_time": "2024-05-25T00:45:56.976Z"
   },
   {
    "duration": 10,
    "start_time": "2024-05-25T00:47:16.758Z"
   },
   {
    "duration": 12,
    "start_time": "2024-05-25T00:47:24.501Z"
   },
   {
    "duration": 12,
    "start_time": "2024-05-25T00:47:25.336Z"
   },
   {
    "duration": 32,
    "start_time": "2024-05-25T00:48:28.452Z"
   },
   {
    "duration": 330,
    "start_time": "2024-05-25T00:48:36.481Z"
   },
   {
    "duration": 35,
    "start_time": "2024-05-25T00:48:49.015Z"
   },
   {
    "duration": 417,
    "start_time": "2024-05-25T00:50:22.869Z"
   },
   {
    "duration": 8,
    "start_time": "2024-05-25T01:03:09.640Z"
   },
   {
    "duration": 477,
    "start_time": "2024-05-25T01:04:43.282Z"
   },
   {
    "duration": 316,
    "start_time": "2024-05-25T01:06:08.302Z"
   },
   {
    "duration": 350,
    "start_time": "2024-05-25T01:06:58.147Z"
   },
   {
    "duration": 11,
    "start_time": "2024-05-25T01:08:22.779Z"
   },
   {
    "duration": 32,
    "start_time": "2024-05-25T01:12:30.054Z"
   },
   {
    "duration": 16,
    "start_time": "2024-05-25T01:12:41.784Z"
   },
   {
    "duration": 29,
    "start_time": "2024-05-25T01:12:43.851Z"
   },
   {
    "duration": 431,
    "start_time": "2024-05-25T01:13:27.730Z"
   },
   {
    "duration": 1192,
    "start_time": "2024-05-25T01:13:34.087Z"
   },
   {
    "duration": 389,
    "start_time": "2024-05-25T01:14:14.730Z"
   },
   {
    "duration": 371,
    "start_time": "2024-05-25T01:15:28.596Z"
   },
   {
    "duration": 214,
    "start_time": "2024-05-25T01:16:10.947Z"
   },
   {
    "duration": 1050,
    "start_time": "2024-05-25T01:16:51.944Z"
   },
   {
    "duration": 870,
    "start_time": "2024-05-25T01:17:12.020Z"
   },
   {
    "duration": 217,
    "start_time": "2024-05-25T01:17:54.261Z"
   },
   {
    "duration": 236,
    "start_time": "2024-05-25T01:18:39.002Z"
   },
   {
    "duration": 1162,
    "start_time": "2024-05-25T01:19:08.584Z"
   },
   {
    "duration": 63,
    "start_time": "2024-05-25T01:20:26.668Z"
   },
   {
    "duration": 507,
    "start_time": "2024-05-25T09:13:20.676Z"
   },
   {
    "duration": 4280,
    "start_time": "2024-05-25T09:13:21.187Z"
   },
   {
    "duration": 286,
    "start_time": "2024-05-25T09:13:25.471Z"
   },
   {
    "duration": 85,
    "start_time": "2024-05-25T09:13:25.763Z"
   },
   {
    "duration": 13,
    "start_time": "2024-05-25T09:13:25.850Z"
   },
   {
    "duration": 10,
    "start_time": "2024-05-25T09:13:25.866Z"
   },
   {
    "duration": 1400,
    "start_time": "2024-05-25T09:13:25.880Z"
   },
   {
    "duration": 203,
    "start_time": "2024-05-25T09:13:27.283Z"
   },
   {
    "duration": 29,
    "start_time": "2024-05-25T09:13:27.490Z"
   },
   {
    "duration": 222,
    "start_time": "2024-05-25T09:13:27.528Z"
   },
   {
    "duration": 186,
    "start_time": "2024-05-25T09:13:27.752Z"
   },
   {
    "duration": 108,
    "start_time": "2024-05-25T09:13:27.941Z"
   },
   {
    "duration": 219,
    "start_time": "2024-05-25T09:13:28.052Z"
   },
   {
    "duration": 132,
    "start_time": "2024-05-25T09:13:28.276Z"
   },
   {
    "duration": 35,
    "start_time": "2024-05-25T09:13:28.412Z"
   },
   {
    "duration": 21,
    "start_time": "2024-05-25T09:13:28.454Z"
   },
   {
    "duration": 36,
    "start_time": "2024-05-25T09:13:28.478Z"
   },
   {
    "duration": 18,
    "start_time": "2024-05-25T09:13:28.516Z"
   },
   {
    "duration": 9,
    "start_time": "2024-05-25T09:13:28.537Z"
   },
   {
    "duration": 9,
    "start_time": "2024-05-25T09:13:28.549Z"
   },
   {
    "duration": 51,
    "start_time": "2024-05-25T09:13:28.562Z"
   },
   {
    "duration": 8,
    "start_time": "2024-05-25T09:13:28.616Z"
   },
   {
    "duration": 1349,
    "start_time": "2024-05-25T09:13:28.628Z"
   },
   {
    "duration": 2834,
    "start_time": "2024-05-25T09:13:29.980Z"
   },
   {
    "duration": 11,
    "start_time": "2024-05-25T09:13:32.818Z"
   },
   {
    "duration": 6,
    "start_time": "2024-05-25T09:13:32.832Z"
   },
   {
    "duration": 6,
    "start_time": "2024-05-25T09:13:32.841Z"
   },
   {
    "duration": 10,
    "start_time": "2024-05-25T09:13:32.856Z"
   },
   {
    "duration": 14,
    "start_time": "2024-05-25T09:13:32.913Z"
   },
   {
    "duration": 12,
    "start_time": "2024-05-25T09:13:32.930Z"
   },
   {
    "duration": 8,
    "start_time": "2024-05-25T09:13:32.945Z"
   },
   {
    "duration": 73,
    "start_time": "2024-05-25T09:13:32.956Z"
   },
   {
    "duration": 62,
    "start_time": "2024-05-25T09:13:33.032Z"
   },
   {
    "duration": 19,
    "start_time": "2024-05-25T09:13:33.097Z"
   },
   {
    "duration": 139,
    "start_time": "2024-05-25T09:13:33.120Z"
   },
   {
    "duration": 12,
    "start_time": "2024-05-25T09:13:33.261Z"
   },
   {
    "duration": 10,
    "start_time": "2024-05-25T09:13:33.275Z"
   },
   {
    "duration": 14,
    "start_time": "2024-05-25T09:13:33.316Z"
   },
   {
    "duration": 512,
    "start_time": "2024-05-25T09:13:33.332Z"
   },
   {
    "duration": 372,
    "start_time": "2024-05-25T09:13:33.850Z"
   },
   {
    "duration": 367,
    "start_time": "2024-05-25T09:13:34.227Z"
   },
   {
    "duration": 22,
    "start_time": "2024-05-25T09:13:34.598Z"
   },
   {
    "duration": 17,
    "start_time": "2024-05-25T09:13:34.624Z"
   },
   {
    "duration": 419,
    "start_time": "2024-05-25T09:13:34.644Z"
   },
   {
    "duration": 387,
    "start_time": "2024-05-25T09:13:35.066Z"
   },
   {
    "duration": 172,
    "start_time": "2024-05-25T09:13:35.456Z"
   },
   {
    "duration": 809,
    "start_time": "2024-05-25T09:13:35.631Z"
   },
   {
    "duration": 212,
    "start_time": "2024-05-25T09:13:36.446Z"
   },
   {
    "duration": 237,
    "start_time": "2024-05-25T09:13:36.661Z"
   },
   {
    "duration": 970,
    "start_time": "2024-05-25T09:13:36.901Z"
   },
   {
    "duration": 85,
    "start_time": "2024-05-25T09:13:37.875Z"
   },
   {
    "duration": 156,
    "start_time": "2024-05-25T09:14:38.442Z"
   },
   {
    "duration": 14,
    "start_time": "2024-05-27T21:34:00.431Z"
   },
   {
    "duration": 7,
    "start_time": "2024-05-27T21:34:08.574Z"
   },
   {
    "duration": 411,
    "start_time": "2024-05-27T21:34:17.501Z"
   },
   {
    "duration": 3829,
    "start_time": "2024-05-27T21:34:17.916Z"
   },
   {
    "duration": 257,
    "start_time": "2024-05-27T21:34:21.748Z"
   },
   {
    "duration": 100,
    "start_time": "2024-05-27T21:34:22.009Z"
   },
   {
    "duration": 11,
    "start_time": "2024-05-27T21:34:22.116Z"
   },
   {
    "duration": 9,
    "start_time": "2024-05-27T21:34:23.076Z"
   },
   {
    "duration": 1309,
    "start_time": "2024-05-27T21:34:23.489Z"
   },
   {
    "duration": 6,
    "start_time": "2024-05-27T21:34:24.801Z"
   },
   {
    "duration": 349,
    "start_time": "2024-05-27T21:34:37.160Z"
   },
   {
    "duration": 27,
    "start_time": "2024-05-27T21:34:52.276Z"
   },
   {
    "duration": 59,
    "start_time": "2024-05-27T21:35:12.734Z"
   },
   {
    "duration": 54,
    "start_time": "2024-05-27T21:35:40.827Z"
   },
   {
    "duration": 53,
    "start_time": "2024-05-27T21:35:50.129Z"
   },
   {
    "duration": 169,
    "start_time": "2024-05-27T21:36:03.386Z"
   },
   {
    "duration": 18,
    "start_time": "2024-05-27T21:36:04.462Z"
   },
   {
    "duration": 19,
    "start_time": "2024-05-27T21:38:46.306Z"
   },
   {
    "duration": 210,
    "start_time": "2024-05-27T21:40:11.560Z"
   },
   {
    "duration": 181,
    "start_time": "2024-05-27T21:40:15.026Z"
   },
   {
    "duration": 105,
    "start_time": "2024-05-27T21:40:16.225Z"
   },
   {
    "duration": 219,
    "start_time": "2024-05-27T21:40:18.943Z"
   },
   {
    "duration": 115,
    "start_time": "2024-05-27T21:40:20.294Z"
   },
   {
    "duration": 38,
    "start_time": "2024-05-27T21:40:20.809Z"
   },
   {
    "duration": 22,
    "start_time": "2024-05-27T21:40:21.274Z"
   },
   {
    "duration": 7,
    "start_time": "2024-05-27T21:40:23.744Z"
   },
   {
    "duration": 19,
    "start_time": "2024-05-27T21:40:24.332Z"
   },
   {
    "duration": 12,
    "start_time": "2024-05-27T21:40:26.092Z"
   },
   {
    "duration": 6,
    "start_time": "2024-05-27T21:40:27.908Z"
   },
   {
    "duration": 6,
    "start_time": "2024-05-27T21:40:28.351Z"
   },
   {
    "duration": 7,
    "start_time": "2024-05-27T21:40:28.980Z"
   },
   {
    "duration": 1166,
    "start_time": "2024-05-27T21:46:19.426Z"
   },
   {
    "duration": 2504,
    "start_time": "2024-05-27T21:46:42.791Z"
   },
   {
    "duration": 1179,
    "start_time": "2024-05-27T21:46:56.321Z"
   },
   {
    "duration": 1343,
    "start_time": "2024-05-27T21:46:58.116Z"
   },
   {
    "duration": 2540,
    "start_time": "2024-05-27T21:49:40.546Z"
   },
   {
    "duration": 8,
    "start_time": "2024-05-27T21:49:52.684Z"
   },
   {
    "duration": 6,
    "start_time": "2024-05-27T21:49:53.392Z"
   },
   {
    "duration": 6,
    "start_time": "2024-05-27T21:49:53.831Z"
   },
   {
    "duration": 10,
    "start_time": "2024-05-27T21:49:54.289Z"
   },
   {
    "duration": 12,
    "start_time": "2024-05-27T21:49:56.418Z"
   },
   {
    "duration": 11,
    "start_time": "2024-05-27T21:49:58.431Z"
   },
   {
    "duration": 8,
    "start_time": "2024-05-27T21:49:58.920Z"
   },
   {
    "duration": 9,
    "start_time": "2024-05-27T21:50:01.519Z"
   },
   {
    "duration": 57,
    "start_time": "2024-05-27T21:50:01.897Z"
   },
   {
    "duration": 6,
    "start_time": "2024-05-27T21:50:02.386Z"
   },
   {
    "duration": 110,
    "start_time": "2024-05-27T21:50:02.844Z"
   },
   {
    "duration": 13,
    "start_time": "2024-05-27T21:50:03.475Z"
   },
   {
    "duration": 36,
    "start_time": "2024-05-27T21:56:43.744Z"
   },
   {
    "duration": 7,
    "start_time": "2024-05-27T21:59:53.470Z"
   },
   {
    "duration": 6,
    "start_time": "2024-05-27T22:01:13.059Z"
   },
   {
    "duration": 115,
    "start_time": "2024-05-27T22:01:24.338Z"
   },
   {
    "duration": 57,
    "start_time": "2024-05-27T22:01:36.068Z"
   },
   {
    "duration": 573,
    "start_time": "2024-05-27T22:02:21.792Z"
   },
   {
    "duration": 4,
    "start_time": "2024-05-27T22:02:55.061Z"
   },
   {
    "duration": 4,
    "start_time": "2024-05-27T22:02:55.315Z"
   },
   {
    "duration": 210,
    "start_time": "2024-05-27T22:02:55.533Z"
   },
   {
    "duration": 53,
    "start_time": "2024-05-27T22:02:55.747Z"
   },
   {
    "duration": 25,
    "start_time": "2024-05-27T22:02:55.937Z"
   },
   {
    "duration": 21,
    "start_time": "2024-05-27T22:02:56.130Z"
   },
   {
    "duration": 1281,
    "start_time": "2024-05-27T22:02:56.795Z"
   },
   {
    "duration": 71,
    "start_time": "2024-05-27T22:02:58.079Z"
   },
   {
    "duration": 150,
    "start_time": "2024-05-27T22:03:02.368Z"
   },
   {
    "duration": 18,
    "start_time": "2024-05-27T22:03:02.947Z"
   },
   {
    "duration": 178,
    "start_time": "2024-05-27T22:03:05.699Z"
   },
   {
    "duration": 168,
    "start_time": "2024-05-27T22:03:06.624Z"
   },
   {
    "duration": 189,
    "start_time": "2024-05-27T22:03:08.688Z"
   },
   {
    "duration": 96,
    "start_time": "2024-05-27T22:03:10.615Z"
   },
   {
    "duration": 33,
    "start_time": "2024-05-27T22:03:10.937Z"
   },
   {
    "duration": 21,
    "start_time": "2024-05-27T22:03:11.234Z"
   },
   {
    "duration": 6,
    "start_time": "2024-05-27T22:03:13.586Z"
   },
   {
    "duration": 13,
    "start_time": "2024-05-27T22:03:14.264Z"
   },
   {
    "duration": 9,
    "start_time": "2024-05-27T22:03:16.015Z"
   },
   {
    "duration": 7,
    "start_time": "2024-05-27T22:03:17.414Z"
   },
   {
    "duration": 6,
    "start_time": "2024-05-27T22:03:17.801Z"
   },
   {
    "duration": 8,
    "start_time": "2024-05-27T22:03:18.169Z"
   },
   {
    "duration": 1141,
    "start_time": "2024-05-27T22:03:19.954Z"
   },
   {
    "duration": 2475,
    "start_time": "2024-05-27T22:03:21.098Z"
   },
   {
    "duration": 7,
    "start_time": "2024-05-27T22:03:23.577Z"
   },
   {
    "duration": 6,
    "start_time": "2024-05-27T22:03:23.587Z"
   },
   {
    "duration": 6,
    "start_time": "2024-05-27T22:03:23.708Z"
   },
   {
    "duration": 10,
    "start_time": "2024-05-27T22:03:24.291Z"
   },
   {
    "duration": 13,
    "start_time": "2024-05-27T22:03:25.814Z"
   },
   {
    "duration": 11,
    "start_time": "2024-05-27T22:03:27.716Z"
   },
   {
    "duration": 7,
    "start_time": "2024-05-27T22:03:28.089Z"
   },
   {
    "duration": 10,
    "start_time": "2024-05-27T22:03:30.736Z"
   },
   {
    "duration": 51,
    "start_time": "2024-05-27T22:03:31.040Z"
   },
   {
    "duration": 6,
    "start_time": "2024-05-27T22:03:31.507Z"
   },
   {
    "duration": 106,
    "start_time": "2024-05-27T22:03:31.917Z"
   },
   {
    "duration": 50,
    "start_time": "2024-05-27T22:03:32.542Z"
   },
   {
    "duration": 13,
    "start_time": "2024-05-27T22:03:39.055Z"
   },
   {
    "duration": 10,
    "start_time": "2024-05-27T22:03:40.963Z"
   },
   {
    "duration": 441,
    "start_time": "2024-05-27T22:03:43.691Z"
   },
   {
    "duration": 342,
    "start_time": "2024-05-27T22:03:54.231Z"
   },
   {
    "duration": 13,
    "start_time": "2024-05-27T22:03:56.835Z"
   },
   {
    "duration": 16,
    "start_time": "2024-05-27T22:04:01.783Z"
   },
   {
    "duration": 397,
    "start_time": "2024-05-27T22:04:02.787Z"
   },
   {
    "duration": 348,
    "start_time": "2024-05-27T22:04:08.286Z"
   },
   {
    "duration": 161,
    "start_time": "2024-05-27T22:04:13.828Z"
   },
   {
    "duration": 771,
    "start_time": "2024-05-27T22:04:17.524Z"
   },
   {
    "duration": 233,
    "start_time": "2024-05-27T22:04:24.317Z"
   },
   {
    "duration": 216,
    "start_time": "2024-05-27T22:04:26.936Z"
   },
   {
    "duration": 950,
    "start_time": "2024-05-27T22:04:29.705Z"
   },
   {
    "duration": 39,
    "start_time": "2024-05-27T22:11:52.659Z"
   },
   {
    "duration": 67,
    "start_time": "2024-05-27T22:12:07.045Z"
   },
   {
    "duration": 435,
    "start_time": "2024-05-27T22:12:09.604Z"
   },
   {
    "duration": 651,
    "start_time": "2024-05-27T22:13:39.153Z"
   },
   {
    "duration": 429,
    "start_time": "2024-05-27T22:13:53.507Z"
   },
   {
    "duration": 7,
    "start_time": "2024-05-27T22:29:29.272Z"
   },
   {
    "duration": 104,
    "start_time": "2024-05-27T22:32:08.395Z"
   },
   {
    "duration": 20,
    "start_time": "2024-05-27T22:33:26.652Z"
   },
   {
    "duration": 23,
    "start_time": "2024-05-27T22:33:36.097Z"
   },
   {
    "duration": 13,
    "start_time": "2024-05-27T22:34:48.929Z"
   },
   {
    "duration": 56,
    "start_time": "2024-05-27T22:35:21.795Z"
   },
   {
    "duration": 199,
    "start_time": "2024-05-27T23:10:40.339Z"
   },
   {
    "duration": 259,
    "start_time": "2024-05-27T23:11:06.925Z"
   },
   {
    "duration": 244,
    "start_time": "2024-05-27T23:11:37.036Z"
   },
   {
    "duration": 241,
    "start_time": "2024-05-27T23:12:30.780Z"
   },
   {
    "duration": 297,
    "start_time": "2024-05-27T23:12:37.415Z"
   },
   {
    "duration": 298,
    "start_time": "2024-05-27T23:12:49.266Z"
   },
   {
    "duration": 279,
    "start_time": "2024-05-27T23:13:08.386Z"
   },
   {
    "duration": 349,
    "start_time": "2024-05-27T23:13:27.068Z"
   },
   {
    "duration": 303,
    "start_time": "2024-05-27T23:13:52.979Z"
   },
   {
    "duration": 307,
    "start_time": "2024-05-27T23:14:01.543Z"
   },
   {
    "duration": 1608,
    "start_time": "2024-05-27T23:14:14.313Z"
   },
   {
    "duration": 1490,
    "start_time": "2024-05-27T23:14:59.148Z"
   },
   {
    "duration": 1473,
    "start_time": "2024-05-27T23:15:16.521Z"
   },
   {
    "duration": 473,
    "start_time": "2024-05-28T04:49:21.312Z"
   },
   {
    "duration": 4531,
    "start_time": "2024-05-28T04:49:21.793Z"
   },
   {
    "duration": 284,
    "start_time": "2024-05-28T04:49:26.327Z"
   },
   {
    "duration": 112,
    "start_time": "2024-05-28T04:49:26.615Z"
   },
   {
    "duration": 14,
    "start_time": "2024-05-28T04:49:26.735Z"
   },
   {
    "duration": 13,
    "start_time": "2024-05-28T04:49:26.753Z"
   },
   {
    "duration": 1644,
    "start_time": "2024-05-28T04:49:26.769Z"
   },
   {
    "duration": 75,
    "start_time": "2024-05-28T04:49:28.416Z"
   },
   {
    "duration": 199,
    "start_time": "2024-05-28T04:49:28.495Z"
   },
   {
    "duration": 36,
    "start_time": "2024-05-28T04:49:28.697Z"
   },
   {
    "duration": 259,
    "start_time": "2024-05-28T04:49:28.737Z"
   },
   {
    "duration": 224,
    "start_time": "2024-05-28T04:49:29.002Z"
   },
   {
    "duration": 128,
    "start_time": "2024-05-28T04:49:29.232Z"
   },
   {
    "duration": 298,
    "start_time": "2024-05-28T04:49:29.369Z"
   },
   {
    "duration": 149,
    "start_time": "2024-05-28T04:49:29.674Z"
   },
   {
    "duration": 53,
    "start_time": "2024-05-28T04:49:29.831Z"
   },
   {
    "duration": 45,
    "start_time": "2024-05-28T04:49:29.888Z"
   },
   {
    "duration": 9,
    "start_time": "2024-05-28T04:49:29.936Z"
   },
   {
    "duration": 17,
    "start_time": "2024-05-28T04:49:29.949Z"
   },
   {
    "duration": 9,
    "start_time": "2024-05-28T04:49:29.970Z"
   },
   {
    "duration": 53,
    "start_time": "2024-05-28T04:49:29.983Z"
   },
   {
    "duration": 6,
    "start_time": "2024-05-28T04:49:30.040Z"
   },
   {
    "duration": 9,
    "start_time": "2024-05-28T04:49:30.050Z"
   },
   {
    "duration": 1323,
    "start_time": "2024-05-28T04:49:30.063Z"
   },
   {
    "duration": 3191,
    "start_time": "2024-05-28T04:49:31.390Z"
   },
   {
    "duration": 11,
    "start_time": "2024-05-28T04:49:34.584Z"
   },
   {
    "duration": 10,
    "start_time": "2024-05-28T04:49:34.600Z"
   },
   {
    "duration": 16,
    "start_time": "2024-05-28T04:49:34.614Z"
   },
   {
    "duration": 28,
    "start_time": "2024-05-28T04:49:34.634Z"
   },
   {
    "duration": 28,
    "start_time": "2024-05-28T04:49:34.666Z"
   },
   {
    "duration": 22,
    "start_time": "2024-05-28T04:49:34.699Z"
   },
   {
    "duration": 19,
    "start_time": "2024-05-28T04:49:34.725Z"
   },
   {
    "duration": 22,
    "start_time": "2024-05-28T04:49:34.748Z"
   },
   {
    "duration": 63,
    "start_time": "2024-05-28T04:49:34.777Z"
   },
   {
    "duration": 9,
    "start_time": "2024-05-28T04:49:34.849Z"
   },
   {
    "duration": 134,
    "start_time": "2024-05-28T04:49:34.865Z"
   },
   {
    "duration": 62,
    "start_time": "2024-05-28T04:49:35.008Z"
   },
   {
    "duration": 14,
    "start_time": "2024-05-28T04:49:35.074Z"
   },
   {
    "duration": 11,
    "start_time": "2024-05-28T04:49:35.091Z"
   },
   {
    "duration": 532,
    "start_time": "2024-05-28T04:49:35.131Z"
   },
   {
    "duration": 449,
    "start_time": "2024-05-28T04:49:35.674Z"
   },
   {
    "duration": 486,
    "start_time": "2024-05-28T04:49:36.134Z"
   },
   {
    "duration": 16,
    "start_time": "2024-05-28T04:49:36.623Z"
   },
   {
    "duration": 19,
    "start_time": "2024-05-28T04:49:36.642Z"
   },
   {
    "duration": 607,
    "start_time": "2024-05-28T04:49:36.665Z"
   },
   {
    "duration": 519,
    "start_time": "2024-05-28T04:49:37.276Z"
   },
   {
    "duration": 248,
    "start_time": "2024-05-28T04:49:37.799Z"
   },
   {
    "duration": 1084,
    "start_time": "2024-05-28T04:49:38.051Z"
   },
   {
    "duration": 280,
    "start_time": "2024-05-28T04:49:39.139Z"
   },
   {
    "duration": 274,
    "start_time": "2024-05-28T04:49:39.423Z"
   },
   {
    "duration": 1146,
    "start_time": "2024-05-28T04:49:39.703Z"
   },
   {
    "duration": 104,
    "start_time": "2024-05-28T04:49:40.852Z"
   },
   {
    "duration": 614,
    "start_time": "2024-05-28T04:49:40.959Z"
   },
   {
    "duration": 2069,
    "start_time": "2024-05-28T04:49:41.580Z"
   },
   {
    "duration": 348,
    "start_time": "2024-05-28T21:30:32.160Z"
   },
   {
    "duration": 24,
    "start_time": "2024-05-28T21:30:46.550Z"
   },
   {
    "duration": 34,
    "start_time": "2024-05-28T21:31:04.453Z"
   },
   {
    "duration": 460,
    "start_time": "2024-05-28T21:31:26.977Z"
   },
   {
    "duration": 4246,
    "start_time": "2024-05-28T21:31:27.747Z"
   },
   {
    "duration": 236,
    "start_time": "2024-05-28T21:31:31.996Z"
   },
   {
    "duration": 105,
    "start_time": "2024-05-28T21:31:32.642Z"
   },
   {
    "duration": 10,
    "start_time": "2024-05-28T21:31:33.160Z"
   },
   {
    "duration": 10,
    "start_time": "2024-05-28T21:31:33.505Z"
   },
   {
    "duration": 1333,
    "start_time": "2024-05-28T21:31:33.862Z"
   },
   {
    "duration": 70,
    "start_time": "2024-05-28T21:31:35.199Z"
   },
   {
    "duration": 170,
    "start_time": "2024-05-28T21:31:50.812Z"
   },
   {
    "duration": 21,
    "start_time": "2024-05-28T21:31:51.592Z"
   },
   {
    "duration": 202,
    "start_time": "2024-05-28T21:31:54.629Z"
   },
   {
    "duration": 167,
    "start_time": "2024-05-28T21:31:56.148Z"
   },
   {
    "duration": 104,
    "start_time": "2024-05-28T21:31:56.552Z"
   },
   {
    "duration": 206,
    "start_time": "2024-05-28T21:31:58.547Z"
   },
   {
    "duration": 111,
    "start_time": "2024-05-28T21:31:59.140Z"
   },
   {
    "duration": 41,
    "start_time": "2024-05-28T21:31:59.652Z"
   },
   {
    "duration": 36,
    "start_time": "2024-05-28T21:32:00.120Z"
   },
   {
    "duration": 8,
    "start_time": "2024-05-28T21:32:03.485Z"
   },
   {
    "duration": 17,
    "start_time": "2024-05-28T21:32:03.886Z"
   },
   {
    "duration": 7,
    "start_time": "2024-05-28T21:32:04.434Z"
   },
   {
    "duration": 7,
    "start_time": "2024-05-28T21:32:34.850Z"
   },
   {
    "duration": 8,
    "start_time": "2024-05-28T21:32:35.185Z"
   },
   {
    "duration": 8,
    "start_time": "2024-05-28T21:32:35.565Z"
   },
   {
    "duration": 1233,
    "start_time": "2024-05-28T21:32:38.732Z"
   },
   {
    "duration": 2507,
    "start_time": "2024-05-28T21:32:39.969Z"
   },
   {
    "duration": 7,
    "start_time": "2024-05-28T21:32:45.773Z"
   },
   {
    "duration": 6,
    "start_time": "2024-05-28T21:32:46.086Z"
   },
   {
    "duration": 5,
    "start_time": "2024-05-28T21:32:46.325Z"
   },
   {
    "duration": 13,
    "start_time": "2024-05-28T21:32:46.627Z"
   },
   {
    "duration": 12,
    "start_time": "2024-05-28T21:32:47.107Z"
   },
   {
    "duration": 11,
    "start_time": "2024-05-28T21:32:52.063Z"
   },
   {
    "duration": 8,
    "start_time": "2024-05-28T21:32:52.478Z"
   },
   {
    "duration": 10,
    "start_time": "2024-05-28T21:32:55.780Z"
   },
   {
    "duration": 50,
    "start_time": "2024-05-28T21:32:56.069Z"
   },
   {
    "duration": 6,
    "start_time": "2024-05-28T21:32:56.556Z"
   },
   {
    "duration": 109,
    "start_time": "2024-05-28T21:32:57.002Z"
   },
   {
    "duration": 55,
    "start_time": "2024-05-28T21:32:59.619Z"
   },
   {
    "duration": 10,
    "start_time": "2024-05-28T21:33:02.420Z"
   },
   {
    "duration": 10,
    "start_time": "2024-05-28T21:33:04.366Z"
   },
   {
    "duration": 463,
    "start_time": "2024-05-28T21:33:06.235Z"
   },
   {
    "duration": 16,
    "start_time": "2024-05-28T21:34:08.335Z"
   },
   {
    "duration": 375,
    "start_time": "2024-05-28T21:34:11.634Z"
   },
   {
    "duration": 340,
    "start_time": "2024-05-28T21:34:15.735Z"
   },
   {
    "duration": 159,
    "start_time": "2024-05-28T21:34:19.237Z"
   },
   {
    "duration": 8,
    "start_time": "2024-05-28T22:01:29.788Z"
   },
   {
    "duration": 5,
    "start_time": "2024-05-28T22:05:04.666Z"
   },
   {
    "duration": 435,
    "start_time": "2024-05-28T22:06:18.296Z"
   }
  ],
  "kernelspec": {
   "display_name": "Python 3 (ipykernel)",
   "language": "python",
   "name": "python3"
  },
  "language_info": {
   "codemirror_mode": {
    "name": "ipython",
    "version": 3
   },
   "file_extension": ".py",
   "mimetype": "text/x-python",
   "name": "python",
   "nbconvert_exporter": "python",
   "pygments_lexer": "ipython3",
   "version": "3.11.7"
  },
  "toc": {
   "base_numbering": 1,
   "nav_menu": {},
   "number_sections": true,
   "sideBar": true,
   "skip_h1_title": true,
   "title_cell": "Table of Contents",
   "title_sidebar": "Contents",
   "toc_cell": false,
   "toc_position": {
    "height": "calc(100% - 180px)",
    "left": "10px",
    "top": "150px",
    "width": "478px"
   },
   "toc_section_display": true,
   "toc_window_display": true
  },
  "vscode": {
   "interpreter": {
    "hash": "01a7be9ec63e704a62cefc5fe7a4756944464ee731be31632bdf42a4cb4688cf"
   }
  }
 },
 "nbformat": 4,
 "nbformat_minor": 5
}
